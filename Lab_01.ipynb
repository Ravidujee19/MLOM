{
  "cells": [
    {
      "cell_type": "markdown",
      "id": "db6e3bd5",
      "metadata": {
        "id": "db6e3bd5"
      },
      "source": [
        "## 📦 NumPy\n",
        "NumPy is the foundational package for numerical computing in Python. It provides efficient multi-dimensional array objects and a collection of routines for fast operations on arrays."
      ]
    },
    {
      "cell_type": "markdown",
      "id": "3ef906fe",
      "metadata": {
        "id": "3ef906fe"
      },
      "source": [
        "### 1. What is a NumPy array?\n",
        "A NumPy array is a grid of values, all of the same type, indexed by a tuple of nonnegative integers. It is similar to a Python list but offers more functionality and performance improvements."
      ]
    },
    {
      "cell_type": "code",
      "execution_count": 1,
      "id": "8c150a42",
      "metadata": {
        "colab": {
          "base_uri": "https://localhost:8080/"
        },
        "id": "8c150a42",
        "outputId": "7cf189d3-37e7-46fe-c368-58979746489b"
      },
      "outputs": [
        {
          "output_type": "stream",
          "name": "stdout",
          "text": [
            "Array: [1 2 3]\n",
            "Type: <class 'numpy.ndarray'>\n"
          ]
        }
      ],
      "source": [
        "# Import package\n",
        "import numpy as np\n",
        "\n",
        "# Create a 1D NumPy array\n",
        "arr = np.array([1, 2, 3])\n",
        "print(\"Array:\", arr)\n",
        "\n",
        "# Display the type\n",
        "print(\"Type:\", type(arr))"
      ]
    },
    {
      "cell_type": "markdown",
      "id": "079afc8c",
      "metadata": {
        "id": "079afc8c"
      },
      "source": [
        "### 2. Creating and accessing a 2D NumPy array\n",
        "You can create a 2D array using a list of lists. Access individual elements by specifying row and column indices."
      ]
    },
    {
      "cell_type": "code",
      "execution_count": 2,
      "id": "07a29169",
      "metadata": {
        "colab": {
          "base_uri": "https://localhost:8080/"
        },
        "id": "07a29169",
        "outputId": "b46bbb76-e394-455b-ad6e-4d5579776ba4"
      },
      "outputs": [
        {
          "output_type": "stream",
          "name": "stdout",
          "text": [
            "2D Array: [[1 2 3]\n",
            " [4 5 6]]\n",
            "Element at row 0, column 1: 2\n"
          ]
        }
      ],
      "source": [
        "# Creates a 2D NumPy array\n",
        "arr2d = np.array([[1, 2, 3], [4, 5, 6]])\n",
        "print(\"2D Array:\", arr2d)\n",
        "\n",
        "# Accesses an element at [0,1]\n",
        "print(\"Element at row 0, column 1:\", arr2d[0, 1])"
      ]
    },
    {
      "cell_type": "markdown",
      "id": "9511f880",
      "metadata": {
        "id": "9511f880"
      },
      "source": [
        "### 3. Common NumPy operations\n",
        "These are element-wise operations between arrays of the same shape."
      ]
    },
    {
      "cell_type": "code",
      "execution_count": 3,
      "id": "c956d62c",
      "metadata": {
        "colab": {
          "base_uri": "https://localhost:8080/"
        },
        "id": "c956d62c",
        "outputId": "f94c197a-8231-4484-c3dc-2c7f9fef6b2d"
      },
      "outputs": [
        {
          "output_type": "stream",
          "name": "stdout",
          "text": [
            "Addition: [5 7 9]\n",
            "Multiplication: [ 4 10 18]\n",
            "Power of 2: [1 4 9]\n"
          ]
        }
      ],
      "source": [
        "a = np.array([1, 2, 3])\n",
        "b = np.array([4, 5, 6])\n",
        "\n",
        "# Element-wise addition\n",
        "print(\"Addition:\", a + b)\n",
        "\n",
        "# Element-wise multiplication\n",
        "print(\"Multiplication:\", a * b)\n",
        "\n",
        "# Element-wise power\n",
        "print(\"Power of 2:\", a ** 2)"
      ]
    },
    {
      "cell_type": "markdown",
      "id": "4c5db74e",
      "metadata": {
        "id": "4c5db74e"
      },
      "source": [
        "### 4. Useful functions to create arrays\n",
        "These are utility functions to quickly initialize arrays."
      ]
    },
    {
      "cell_type": "code",
      "execution_count": 4,
      "id": "5f188604",
      "metadata": {
        "colab": {
          "base_uri": "https://localhost:8080/"
        },
        "id": "5f188604",
        "outputId": "9a8300b2-3e20-4ff4-e311-a967023f70ce"
      },
      "outputs": [
        {
          "output_type": "stream",
          "name": "stdout",
          "text": [
            "[[0. 0. 0.]\n",
            " [0. 0. 0.]]\n",
            "[1. 1. 1. 1.]\n",
            "[1 3 5 7 9]\n",
            "[0.   0.25 0.5  0.75 1.  ]\n",
            "[[1. 0. 0.]\n",
            " [0. 1. 0.]\n",
            " [0. 0. 1.]]\n"
          ]
        }
      ],
      "source": [
        "# np.zeros: zeros-filled arrays.\n",
        "# np.ones: ones-filled arrays.\n",
        "# np.arange: arrays from specified ranges.\n",
        "# np.linspace: evenly spaced arrays between two values.\n",
        "# np.eye: identity matrix creation.\n",
        "\n",
        "# Array of zeros with shape (2, 3)\n",
        "print(np.zeros((2, 3)))\n",
        "\n",
        "# 1D array of ones\n",
        "print(np.ones(4))\n",
        "\n",
        "# Sequence of numbers with step size 2\n",
        "print(np.arange(1, 10, 2))\n",
        "\n",
        "# Evenly spaced numbers between 0 and 1\n",
        "print(np.linspace(0, 1, 5))\n",
        "\n",
        "# Identity matrix\n",
        "print(np.eye(3))"
      ]
    },
    {
      "cell_type": "markdown",
      "id": "fba06052",
      "metadata": {
        "id": "fba06052"
      },
      "source": [
        "### 5. Aggregation functions\n",
        "These are used to compute statistics across array elements. Aggregate functions perform summarization across elements of an array — either across the whole array or along a specific axis (row/column)\n",
        "\n",
        "These are called aggregate functions because they reduce the array to a single value or a smaller array.\n",
        "\n"
      ]
    },
    {
      "cell_type": "code",
      "execution_count": 5,
      "id": "c4ea938c",
      "metadata": {
        "colab": {
          "base_uri": "https://localhost:8080/"
        },
        "id": "c4ea938c",
        "outputId": "6b8a10c0-549e-4b08-f47f-8d5d799faf13"
      },
      "outputs": [
        {
          "output_type": "stream",
          "name": "stdout",
          "text": [
            "Sum: 10\n",
            "Mean: 2.5\n",
            "Max: 4\n",
            "Min: 1\n",
            "Sum over columns: [4 6]\n",
            "Sum over rows: [3 7]\n"
          ]
        }
      ],
      "source": [
        "arr = np.array([[1, 2], [3, 4]])\n",
        "\n",
        "# Sum of all elements\n",
        "print(\"Sum:\", np.sum(arr))\n",
        "\n",
        "# Mean of all elements\n",
        "print(\"Mean:\", np.mean(arr))\n",
        "\n",
        "# Maximum value\n",
        "print(\"Max:\", np.max(arr))\n",
        "\n",
        "# Minimum value\n",
        "print(\"Min:\", np.min(arr))\n",
        "\n",
        "# Column-wise sum\n",
        "print(\"Sum over columns:\", np.sum(arr, axis=0))\n",
        "\n",
        "# Row-wise sum\n",
        "print(\"Sum over rows:\", np.sum(arr, axis=1))"
      ]
    },
    {
      "cell_type": "markdown",
      "id": "c0403805",
      "metadata": {
        "id": "c0403805"
      },
      "source": [
        "## 🐼 Pandas\n",
        "Pandas is a powerful data analysis and manipulation library built on top of NumPy."
      ]
    },
    {
      "cell_type": "markdown",
      "id": "bf1240b7",
      "metadata": {
        "id": "bf1240b7"
      },
      "source": [
        "### 1. Creating a DataFrame\n",
        "A DataFrame is a 2-dimensional labeled data structure with columns of potentially different types."
      ]
    },
    {
      "cell_type": "code",
      "execution_count": 6,
      "id": "e5f61176",
      "metadata": {
        "id": "e5f61176",
        "colab": {
          "base_uri": "https://localhost:8080/"
        },
        "outputId": "5443a1db-ac77-44d6-dd20-a3a1c03a3dc2"
      },
      "outputs": [
        {
          "output_type": "stream",
          "name": "stdout",
          "text": [
            "    Name  Age\n",
            "0  Alice   25\n",
            "1    Bob   30\n"
          ]
        }
      ],
      "source": [
        "# Import package\n",
        "import pandas as pd\n",
        "\n",
        "# creates a Python dictionary named data\n",
        "data = {'Name': ['Alice', 'Bob'], 'Age': [25, 30]}\n",
        "df = pd.DataFrame(data)\n",
        "print(df)"
      ]
    },
    {
      "cell_type": "markdown",
      "id": "5b869449",
      "metadata": {
        "id": "5b869449"
      },
      "source": [
        "### 2. Accessing data\n",
        "Access columns using brackets or dot notation. Use `.loc[]` and `.iloc[]` to access rows by label or index."
      ]
    },
    {
      "cell_type": "code",
      "execution_count": 7,
      "id": "bf806894",
      "metadata": {
        "id": "bf806894",
        "colab": {
          "base_uri": "https://localhost:8080/"
        },
        "outputId": "a04323b1-ada6-49e1-bf25-a3bca0f6ba25"
      },
      "outputs": [
        {
          "output_type": "stream",
          "name": "stdout",
          "text": [
            "0    Alice\n",
            "1      Bob\n",
            "Name: Name, dtype: object\n",
            "    Name  Age\n",
            "0  Alice   25\n",
            "1    Bob   30\n",
            "Name    Bob\n",
            "Age      30\n",
            "Name: 1, dtype: object\n",
            "Name    Alice\n",
            "Age        25\n",
            "Name: 0, dtype: object\n",
            "30\n"
          ]
        }
      ],
      "source": [
        "# Access a single column\n",
        "print(df['Name'])\n",
        "\n",
        "# Access multiple columns\n",
        "print(df[['Name', 'Age']])\n",
        "\n",
        "# Access row by index\n",
        "# Retrieves the row where the index label is 1\n",
        "print(df.loc[1])\n",
        "\n",
        "# Accesses rows by their position (like using array index)\n",
        "# iloc[0] = first row, iloc[1] = second row\n",
        "# Retrieves the first row in the DataFrame, regardless of the index label.\n",
        "print(df.iloc[0])\n",
        "\n",
        "# Access specific element\n",
        "print(df.loc[1, 'Age'])"
      ]
    },
    {
      "cell_type": "markdown",
      "id": "afa96a9c",
      "metadata": {
        "id": "afa96a9c"
      },
      "source": [
        "### 3. Reading and writing CSV files\n",
        "Pandas can read from and write to CSV files easily."
      ]
    },
    {
      "cell_type": "code",
      "execution_count": 8,
      "id": "3204eec3",
      "metadata": {
        "id": "3204eec3",
        "colab": {
          "base_uri": "https://localhost:8080/"
        },
        "outputId": "fb3521c7-a88f-4d57-a82f-ef82659d6dbf"
      },
      "outputs": [
        {
          "output_type": "stream",
          "name": "stdout",
          "text": [
            "    Name  Age\n",
            "0  Alice   25\n",
            "1    Bob   30\n",
            "<class 'pandas.core.frame.DataFrame'>\n",
            "RangeIndex: 2 entries, 0 to 1\n",
            "Data columns (total 2 columns):\n",
            " #   Column  Non-Null Count  Dtype \n",
            "---  ------  --------------  ----- \n",
            " 0   Name    2 non-null      object\n",
            " 1   Age     2 non-null      int64 \n",
            "dtypes: int64(1), object(1)\n",
            "memory usage: 164.0+ bytes\n",
            "None\n"
          ]
        }
      ],
      "source": [
        "# Save DataFrame to CSV\n",
        "df.to_csv('output.csv', index=False)\n",
        "# index=False -> Save DataFrame to CSV without writing the index column\n",
        "\n",
        "# Read a CSV file\n",
        "df = pd.read_csv('output.csv')\n",
        "print(df.head())\n",
        "print(df.info())"
      ]
    },
    {
      "cell_type": "code",
      "source": [
        "# Used in Google Colab to connect your Google Drive to the Colab notebook.\n",
        "from google.colab import drive\n",
        "drive.mount('/content/drive')\n",
        "\n",
        "# loads a CSV file stored in your Google Drive under \"MyDrive\".\n",
        "file_path = '/content/drive/MyDrive/Data.csv'\n",
        "df = pd.read_csv(file_path)\n"
      ],
      "metadata": {
        "id": "VeKhEabhdXjM",
        "colab": {
          "base_uri": "https://localhost:8080/"
        },
        "outputId": "f3880b30-40c8-4774-85c6-45f366a9e9d5"
      },
      "id": "VeKhEabhdXjM",
      "execution_count": 9,
      "outputs": [
        {
          "output_type": "stream",
          "name": "stdout",
          "text": [
            "Drive already mounted at /content/drive; to attempt to forcibly remount, call drive.mount(\"/content/drive\", force_remount=True).\n"
          ]
        }
      ]
    },
    {
      "cell_type": "markdown",
      "id": "bff68681",
      "metadata": {
        "id": "bff68681"
      },
      "source": [
        "### 4. Common DataFrame operations\n",
        "Filtering, sorting, adding/dropping columns, and renaming."
      ]
    },
    {
      "cell_type": "code",
      "execution_count": 10,
      "id": "777e1f13",
      "metadata": {
        "id": "777e1f13",
        "colab": {
          "base_uri": "https://localhost:8080/"
        },
        "outputId": "956b8e14-0b0f-4b74-ce73-165e0b876cf2"
      },
      "outputs": [
        {
          "output_type": "stream",
          "name": "stdout",
          "text": [
            "    Name  Age  NewCol\n",
            "0  Alice   25       1\n",
            "1    Bob   30       2\n",
            "  Name  Age  NewCol\n",
            "1  Bob   30       2\n",
            "    Name  Age  NewCol\n",
            "0  Alice   25       1\n",
            "1    Bob   30       2\n",
            "    Name  NewCol\n",
            "0  Alice       1\n",
            "1    Bob       2\n",
            "  FullName  Age  NewCol\n",
            "0    Alice   25       1\n",
            "1      Bob   30       2\n"
          ]
        }
      ],
      "source": [
        "df['NewCol'] = [1, 2]  # Add a new column\n",
        "print(df)\n",
        "\n",
        "print(df[df['Age'] > 25])  # Filter rows\n",
        "print(df.sort_values(by='Age'))  # Sort by age\n",
        "\n",
        "# axis=1 → Specifies you're dropping a column (not a row)\n",
        "# axis=0 = row\n",
        "# axis=1 = column\n",
        "print(df.drop('Age', axis=1))  # Drop column\n",
        "print(df.rename(columns={'Name': 'FullName'}))  # Rename column"
      ]
    },
    {
      "cell_type": "markdown",
      "id": "7b040001",
      "metadata": {
        "id": "7b040001"
      },
      "source": [
        "### 5. Aggregation and statistics\n",
        "Useful for data summaries and group-wise statistics."
      ]
    },
    {
      "cell_type": "code",
      "execution_count": 11,
      "id": "fb342925",
      "metadata": {
        "id": "fb342925",
        "colab": {
          "base_uri": "https://localhost:8080/"
        },
        "outputId": "696bb91e-9fa1-484b-bcf1-e3c6fa288784"
      },
      "outputs": [
        {
          "output_type": "stream",
          "name": "stdout",
          "text": [
            "             Age    NewCol\n",
            "count   2.000000  2.000000\n",
            "mean   27.500000  1.500000\n",
            "std     3.535534  0.707107\n",
            "min    25.000000  1.000000\n",
            "25%    26.250000  1.250000\n",
            "50%    27.500000  1.500000\n",
            "75%    28.750000  1.750000\n",
            "max    30.000000  2.000000\n",
            "27.5\n"
          ]
        }
      ],
      "source": [
        "print(df.describe())  # Summary statistics\n",
        "\n",
        "print(df['Age'].mean())  # Mean age\n",
        "# print(df.Age.mean())"
      ]
    },
    {
      "cell_type": "markdown",
      "id": "71bad182",
      "metadata": {
        "id": "71bad182"
      },
      "source": [
        "## 📊 Matplotlib\n",
        "Matplotlib is a plotting library for creating static, animated, and interactive visualizations."
      ]
    },
    {
      "cell_type": "markdown",
      "id": "f82d7c13",
      "metadata": {
        "id": "f82d7c13"
      },
      "source": [
        "### 1. Simple line chart\n",
        "Line charts visualize trends over intervals.\n",
        "To show trends or changes of a variable over a continuous interval (often time).\n",
        "\n",
        "Points connected by straight lines."
      ]
    },
    {
      "cell_type": "code",
      "execution_count": 12,
      "id": "7d23699d",
      "metadata": {
        "colab": {
          "base_uri": "https://localhost:8080/",
          "height": 472
        },
        "id": "7d23699d",
        "outputId": "517fb6ec-2ef3-4cab-fdee-fafdb97860bb"
      },
      "outputs": [
        {
          "output_type": "display_data",
          "data": {
            "text/plain": [
              "<Figure size 640x480 with 1 Axes>"
            ],
            "image/png": "[encoded data removed]"
          },
          "metadata": {}
        }
      ],
      "source": [
        "import matplotlib.pyplot as plt\n",
        "\n",
        "x = [1, 2, 3, 4, 5]\n",
        "y = [2, 4, 1, 8, 7]\n",
        "\n",
        "plt.plot(x, y)\n",
        "plt.title(\"Simple Line Chart\")\n",
        "plt.xlabel(\"X Axis\")\n",
        "plt.ylabel(\"Y Axis\")\n",
        "\n",
        "# see the plot with horizontal and vertical grid lines in the background.\n",
        "plt.grid(True) # Show grid lines\n",
        "# plt.grid(False)\n",
        "plt.show()"
      ]
    },
    {
      "cell_type": "markdown",
      "id": "faeb94ad",
      "metadata": {
        "id": "faeb94ad"
      },
      "source": [
        "### 2. Scatter plot\n",
        "Used to display values for two variables for a set of data. Separate dots scattered on the graph.\n",
        "\n",
        "When you want to see the distribution, correlation, or clustering of data points."
      ]
    },
    {
      "cell_type": "code",
      "execution_count": 13,
      "id": "fb7d00f0",
      "metadata": {
        "colab": {
          "base_uri": "https://localhost:8080/",
          "height": 472
        },
        "id": "fb7d00f0",
        "outputId": "914b61b6-c1e8-42b0-e4a2-6fbc5303be81"
      },
      "outputs": [
        {
          "output_type": "display_data",
          "data": {
            "text/plain": [
              "<Figure size 640x480 with 1 Axes>"
            ],
            "image/png": "[encoded data removed]"
          },
          "metadata": {}
        }
      ],
      "source": [
        "x = [5, 7, 8, 7, 2, 17, 2, 9]\n",
        "y = [99, 86, 87, 88, 100, 86, 103, 87]\n",
        "\n",
        "# Shape of the points; 'o' means circle markers\n",
        "plt.scatter(x, y, color='red', marker='o')\n",
        "plt.title(\"Scatter Plot Example\")\n",
        "plt.xlabel(\"X\")\n",
        "plt.ylabel(\"Y\")\n",
        "plt.show()"
      ]
    },
    {
      "cell_type": "markdown",
      "id": "d055f462",
      "metadata": {
        "id": "d055f462"
      },
      "source": [
        "### 3. Plotting from a DataFrame\n",
        "Combine pandas and matplotlib for quick insights."
      ]
    },
    {
      "cell_type": "code",
      "execution_count": 14,
      "id": "2254c225",
      "metadata": {
        "colab": {
          "base_uri": "https://localhost:8080/",
          "height": 472
        },
        "id": "2254c225",
        "outputId": "cea17181-f6df-43bc-d9a3-0347f1d2ad3c"
      },
      "outputs": [
        {
          "output_type": "display_data",
          "data": {
            "text/plain": [
              "<Figure size 640x480 with 1 Axes>"
            ],
            "image/png": "[encoded data removed]"
          },
          "metadata": {}
        }
      ],
      "source": [
        "import pandas as pd\n",
        "data = {'Month': ['Jan', 'Feb', 'Mar', 'Apr'], 'Sales': [220, 270, 300, 250]}\n",
        "df = pd.DataFrame(data)\n",
        "\n",
        "plt.plot(df['Month'], df['Sales'], marker='o')\n",
        "plt.title(\"Monthly Sales\")\n",
        "plt.xlabel(\"Month\")\n",
        "plt.ylabel(\"Sales\")\n",
        "plt.show()"
      ]
    },
    {
      "cell_type": "markdown",
      "id": "cb55e571",
      "metadata": {
        "id": "cb55e571"
      },
      "source": [
        "### 4. Customize plots\n",
        "Change style, add labels, and legends for better clarity."
      ]
    },
    {
      "cell_type": "code",
      "execution_count": 15,
      "id": "31991f96",
      "metadata": {
        "colab": {
          "base_uri": "https://localhost:8080/",
          "height": 477
        },
        "id": "31991f96",
        "outputId": "fc6dfb61-daa7-4525-e1d8-e62593ee5309"
      },
      "outputs": [
        {
          "output_type": "display_data",
          "data": {
            "text/plain": [
              "<Figure size 640x480 with 1 Axes>"
            ],
            "image/png": "[encoded data removed]"
          },
          "metadata": {}
        }
      ],
      "source": [
        "import matplotlib.pyplot as plt\n",
        "\n",
        "# Apply Matplotlib's 'ggplot' style\n",
        "# This style provides a clean white background with a grid and soft colors\n",
        "plt.style.use('ggplot')\n",
        "\n",
        "x = [0, 1, 2, 3, 4]\n",
        "y = [0, 1, 4, 9, 16]\n",
        "\n",
        "# Plot a line with green dashed style and circular markers for each data point\n",
        "# label='Square' assigns a name for the legend\n",
        "plt.plot(x, y, color='green', linestyle='--', marker='o', label='Square')\n",
        "\n",
        "# Set the title of the plot with specific font size and color\n",
        "plt.title(\"Square Numbers\", fontsize=14, color='blue')\n",
        "\n",
        "# Set the label for the X-axis and Y-axis\n",
        "plt.xlabel(\"Input Value\", fontsize=12)\n",
        "plt.ylabel(\"Output Value\", fontsize=12)\n",
        "\n",
        "# Show a grid (enabled by default in ggplot)\n",
        "# linestyle=':' makes the grid dotted, and color='gray' gives a subtle tone\n",
        "plt.grid(True, linestyle=':', color='gray')\n",
        "\n",
        "# Display the legend in the plot using the label defined earlier\n",
        "plt.legend()\n",
        "\n",
        "# Set the ticks (values shown) on the X-axis\n",
        "plt.xticks(x)\n",
        "\n",
        "# Set the ticks on the Y-axis at specific intervals\n",
        "plt.yticks([0, 5, 10, 15])\n",
        "\n",
        "# Display the final plot\n",
        "plt.show()"
      ]
    },
    {
      "cell_type": "markdown",
      "id": "8067c07d",
      "metadata": {
        "id": "8067c07d"
      },
      "source": [
        "### 5. Multiple lines on a chart\n",
        "Compare multiple datasets in one plot."
      ]
    },
    {
      "cell_type": "code",
      "execution_count": 16,
      "id": "407014c6",
      "metadata": {
        "colab": {
          "base_uri": "https://localhost:8080/",
          "height": 477
        },
        "id": "407014c6",
        "outputId": "6d679119-202b-42a6-d07a-86769cb6c928"
      },
      "outputs": [
        {
          "output_type": "display_data",
          "data": {
            "text/plain": [
              "<Figure size 640x480 with 1 Axes>"
            ],
            "image/png": "[encoded data removed]"
          },
          "metadata": {}
        }
      ],
      "source": [
        "x = [1, 2, 3, 4]\n",
        "y1 = [1, 4, 9, 16]\n",
        "y2 = [1, 2, 3, 4]\n",
        "\n",
        "plt.plot(x, y1, label='Square')\n",
        "plt.plot(x, y2, label='Linear')\n",
        "plt.title(\"Multiple Lines\")\n",
        "plt.xlabel(\"X\")\n",
        "plt.ylabel(\"Y\")\n",
        "plt.legend()\n",
        "plt.grid(True)\n",
        "plt.show()"
      ]
    },
    {
      "cell_type": "markdown",
      "id": "254ddb3f",
      "metadata": {
        "id": "254ddb3f"
      },
      "source": [
        "## 🔢 TensorFlow\n",
        "TensorFlow is an open-source library by Google used for machine learning and deep learning applications."
      ]
    },
    {
      "cell_type": "markdown",
      "id": "3286bbce",
      "metadata": {
        "id": "3286bbce"
      },
      "source": [
        "### 1. Importing TensorFlow\n",
        "Import the library to start using tensors and computational graphs."
      ]
    },
    {
      "cell_type": "code",
      "execution_count": 17,
      "id": "e1f9ea4d",
      "metadata": {
        "id": "e1f9ea4d"
      },
      "outputs": [],
      "source": [
        "import tensorflow as tf"
      ]
    },
    {
      "cell_type": "markdown",
      "id": "d5e05677",
      "metadata": {
        "id": "d5e05677"
      },
      "source": [
        "### 2. Creating a tensor\n",
        "Tensors are multi-dimensional arrays used throughout TensorFlow.\n",
        "\n",
        "A Tensor is a generalization of vectors and matrices to any number of dimensions. In TensorFlow, a tensor is the core data structure used for deep learning and mathematical computation.\n",
        "\n",
        "**NumPy array (np.array)**: From the NumPy library — great for general scientific computation.\n",
        "\n",
        "**Tensor (tf.Tensor)**: From TensorFlow — designed specifically for machine learning, especially deep learning."
      ]
    },
    {
      "cell_type": "code",
      "execution_count": 18,
      "id": "c9a954d0",
      "metadata": {
        "colab": {
          "base_uri": "https://localhost:8080/"
        },
        "id": "c9a954d0",
        "outputId": "bde32d54-8f78-48ea-a852-261249200ba0"
      },
      "outputs": [
        {
          "output_type": "stream",
          "name": "stdout",
          "text": [
            "Tensor: tf.Tensor(\n",
            "[[1 2]\n",
            " [3 4]], shape=(2, 2), dtype=int32)\n"
          ]
        }
      ],
      "source": [
        "# No Gradient Needed\n",
        "tensor = tf.constant([[1, 2], [3, 4]])\n",
        "print(\"Tensor:\", tensor)\n",
        "\n",
        "# Create a tensor (Variable) with initial values\n",
        "# Change the gradient in the back propagation, when adjusting weights.\n",
        "# x = tf.Variable([[1, 2], [3, 4]], dtype=tf.int32)"
      ]
    },
    {
      "cell_type": "markdown",
      "id": "5147d482",
      "metadata": {
        "id": "5147d482"
      },
      "source": [
        "### 3. Other tensor creation methods"
      ]
    },
    {
      "cell_type": "code",
      "execution_count": 19,
      "id": "564b8fc7",
      "metadata": {
        "colab": {
          "base_uri": "https://localhost:8080/"
        },
        "id": "564b8fc7",
        "outputId": "6764ea09-8ab9-4a99-bc46-df75fafdc307"
      },
      "outputs": [
        {
          "output_type": "stream",
          "name": "stdout",
          "text": [
            "tf.Tensor([1 2 3], shape=(3,), dtype=int32)\n",
            "tf.Tensor(\n",
            "[[0. 0.]\n",
            " [0. 0.]], shape=(2, 2), dtype=float32)\n",
            "tf.Tensor([1. 1. 1.], shape=(3,), dtype=float32)\n",
            "tf.Tensor(\n",
            "[[0.9416292  0.69328237 0.10088575]\n",
            " [0.06106102 0.9511584  0.6656537 ]], shape=(2, 3), dtype=float32)\n"
          ]
        }
      ],
      "source": [
        "# Constant tensor\n",
        "print(tf.constant([1, 2, 3]))\n",
        "\n",
        "# Tensor of zeros\n",
        "print(tf.zeros((2, 2)))\n",
        "\n",
        "# Tensor of ones\n",
        "print(tf.ones((3,)))\n",
        "\n",
        "# Random uniform tensor\n",
        "# Random values drawn from a uniform distribution in TensorFlow.\n",
        "print(tf.random.uniform((2, 3)))"
      ]
    },
    {
      "cell_type": "markdown",
      "id": "9a7ff6f3",
      "metadata": {
        "id": "9a7ff6f3"
      },
      "source": [
        "### 4. Tensor shape and data type\n",
        "Every tensor has a shape and a data type."
      ]
    },
    {
      "cell_type": "code",
      "execution_count": 20,
      "id": "b15243d1",
      "metadata": {
        "colab": {
          "base_uri": "https://localhost:8080/"
        },
        "id": "b15243d1",
        "outputId": "86be56db-ce5f-4f82-a2f2-7d235352dffc"
      },
      "outputs": [
        {
          "output_type": "stream",
          "name": "stdout",
          "text": [
            "Shape: (2, 2)\n",
            "Data type: <dtype: 'float32'>\n"
          ]
        }
      ],
      "source": [
        "t = tf.constant([[1.0, 2.0], [3.0, 4.0]])\n",
        "print(\"Shape:\", t.shape)\n",
        "print(\"Data type:\", t.dtype)"
      ]
    },
    {
      "cell_type": "markdown",
      "id": "2cf503c9",
      "metadata": {
        "id": "2cf503c9"
      },
      "source": [
        "### 5. Constant vs Variable\n",
        "Variables are mutable, while constants are not.\n",
        "Constants are not trainable, so TensorFlow ignores them during gradient calculations.\n",
        "In TensorFlow's static computation graphs, constants help define fixed values at graph construction time."
      ]
    },
    {
      "cell_type": "code",
      "execution_count": 21,
      "id": "475b1106",
      "metadata": {
        "colab": {
          "base_uri": "https://localhost:8080/"
        },
        "id": "475b1106",
        "outputId": "1346753d-bffa-45f5-b2da-b3982862a719"
      },
      "outputs": [
        {
          "output_type": "stream",
          "name": "stdout",
          "text": [
            "Variable after assignment: <tf.Variable 'Variable:0' shape=() dtype=int32, numpy=10>\n"
          ]
        }
      ],
      "source": [
        "c = tf.constant(5)\n",
        "v = tf.Variable(5)\n",
        "v.assign(10)  # Changes the value of the variable\n",
        "print(\"Variable after assignment:\", v)"
      ]
    },
    {
      "cell_type": "markdown",
      "id": "407b73cc",
      "metadata": {
        "id": "407b73cc"
      },
      "source": [
        "### 6. Basic tensor operations\n",
        "You can perform arithmetic operations directly."
      ]
    },
    {
      "cell_type": "code",
      "execution_count": 22,
      "id": "4095966f",
      "metadata": {
        "colab": {
          "base_uri": "https://localhost:8080/"
        },
        "id": "4095966f",
        "outputId": "5c956e8b-29d3-4404-a076-777fe997c2ce"
      },
      "outputs": [
        {
          "output_type": "stream",
          "name": "stdout",
          "text": [
            "Addition: tf.Tensor([4 6], shape=(2,), dtype=int32)\n",
            "Multiplication: tf.Tensor([3 8], shape=(2,), dtype=int32)\n",
            "Sum of elements in b: tf.Tensor(7, shape=(), dtype=int32)\n"
          ]
        }
      ],
      "source": [
        "a = tf.constant([1, 2])\n",
        "b = tf.constant([3, 4])\n",
        "\n",
        "print(\"Addition:\", tf.add(a, b))\n",
        "print(\"Multiplication:\", tf.multiply(a, b))\n",
        "\n",
        "# Computes the sum of all elements in the tensor b\n",
        "print(\"Sum of elements in b:\", tf.reduce_sum(b))"
      ]
    },
    {
      "cell_type": "markdown",
      "id": "147bd652",
      "metadata": {
        "id": "147bd652"
      },
      "source": [
        "### 7. Eager execution\n",
        "By default, TensorFlow 2 runs operations immediately.\n",
        "Instead of building a computational graph and running it later (as in traditional TensorFlow 1.x), with eager execution you get results right away."
      ]
    },
    {
      "cell_type": "code",
      "execution_count": 23,
      "id": "74ca55b3",
      "metadata": {
        "colab": {
          "base_uri": "https://localhost:8080/"
        },
        "id": "74ca55b3",
        "outputId": "b861cc7a-d491-4fdd-df4e-d5e0cda9735d"
      },
      "outputs": [
        {
          "output_type": "stream",
          "name": "stdout",
          "text": [
            "Result: tf.Tensor([4 6], shape=(2,), dtype=int32)\n"
          ]
        }
      ],
      "source": [
        "x = tf.constant([1, 2])\n",
        "y = tf.constant([3, 4])\n",
        "print(\"Result:\", x + y)"
      ]
    },
    {
      "cell_type": "markdown",
      "id": "d8f8e3cd",
      "metadata": {
        "id": "d8f8e3cd"
      },
      "source": [
        "### 8. Converting NumPy array to tensor\n",
        "You can convert NumPy arrays to tensors using `tf.convert_to_tensor`."
      ]
    },
    {
      "cell_type": "code",
      "execution_count": 24,
      "id": "8b2f3fbc",
      "metadata": {
        "colab": {
          "base_uri": "https://localhost:8080/"
        },
        "id": "8b2f3fbc",
        "outputId": "bbb8d268-732f-4654-8a68-800c65074376"
      },
      "outputs": [
        {
          "output_type": "stream",
          "name": "stdout",
          "text": [
            "Converted Tensor: tf.Tensor([1 2 3], shape=(3,), dtype=int64)\n"
          ]
        }
      ],
      "source": [
        "import numpy as np\n",
        "\n",
        "arr = np.array([1, 2, 3])\n",
        "tensor = tf.convert_to_tensor(arr)\n",
        "print(\"Converted Tensor:\", tensor)"
      ]
    },
    {
      "cell_type": "markdown",
      "id": "519ec188",
      "metadata": {
        "id": "519ec188"
      },
      "source": [
        "### 9. Reshaping tensors\n",
        "Use `tf.reshape()` to change the shape of a tensor without changing its data."
      ]
    },
    {
      "cell_type": "code",
      "execution_count": 25,
      "id": "91fc62e6",
      "metadata": {
        "colab": {
          "base_uri": "https://localhost:8080/"
        },
        "id": "91fc62e6",
        "outputId": "d890bdbf-15b9-476e-df07-d3010dd9584f"
      },
      "outputs": [
        {
          "output_type": "stream",
          "name": "stdout",
          "text": [
            "Reshaped Tensor: tf.Tensor([1 2 3 4], shape=(4,), dtype=int32)\n"
          ]
        }
      ],
      "source": [
        "x = tf.constant([[1, 2], [3, 4]])\n",
        "# Reshape the 2x2 tensor into a 1D tensor of length 4 (a flat vector)\n",
        "reshaped = tf.reshape(x, [4])\n",
        "print(\"Reshaped Tensor:\", reshaped)"
      ]
    },
    {
      "cell_type": "markdown",
      "id": "06f0c647",
      "metadata": {
        "id": "06f0c647"
      },
      "source": [
        "### 10. tf.function decorator\n",
        "Use `@tf.function` to convert a Python function into a TensorFlow graph.\n",
        "When we call the decorated function, TensorFlow traces the function, builds a computation graph behind the scenes, and runs it efficiently."
      ]
    },
    {
      "cell_type": "code",
      "execution_count": 26,
      "id": "5e7c3110",
      "metadata": {
        "colab": {
          "base_uri": "https://localhost:8080/"
        },
        "id": "5e7c3110",
        "outputId": "e7a05973-ae0e-4f9a-ca5b-9faf804cdc51"
      },
      "outputs": [
        {
          "output_type": "stream",
          "name": "stdout",
          "text": [
            "Graph function result: tf.Tensor(3, shape=(), dtype=int32)\n"
          ]
        }
      ],
      "source": [
        "# The add function takes two tensors x and y and returns their sum.\n",
        "# Normally in eager mode, this addition happens immediately.\n",
        "# With @tf.function, TensorFlow compiles the function into a graph for faster execution.\n",
        "# This improves performance compared to eager execution by optimizing and compiling the function.\n",
        "@tf.function\n",
        "def add(x, y):\n",
        "    return x + y\n",
        "\n",
        "print(\"Graph function result:\", add(tf.constant(1), tf.constant(2)))"
      ]
    },
    {
      "cell_type": "markdown",
      "id": "197e7676",
      "metadata": {
        "id": "197e7676"
      },
      "source": [
        "## 🤖 Scikit-learn\n",
        "Scikit-learn is a machine learning library that supports classification, regression, clustering, and more.\n",
        "\n",
        "Scikit-learn -> Classical ML algorithms\t- Data mining, classification, regression\n",
        "\n",
        "TensorFlow ->Deep learning & neural networks\t- Large-scale neural models, GPU support\n",
        "\n",
        "**Steps to Train a Model**\n",
        "*   Import Libraries\n",
        "*   Load the Dataset\n",
        "*   Preprocess the Data\n",
        "*   Split the Dataset\n",
        "*   Train the Model (Fit)\n",
        "*   Make Predictions\n",
        "*   Evaluate the Model\n",
        "\n",
        "\n",
        "\n",
        "\n",
        "\n",
        "\n",
        "\n"
      ]
    },
    {
      "cell_type": "markdown",
      "id": "14e09028",
      "metadata": {
        "id": "14e09028"
      },
      "source": [
        "### 1. Loading a sample dataset\n",
        "Scikit-learn provides some built-in datasets like Iris for experimentation."
      ]
    },
    {
      "cell_type": "code",
      "execution_count": 27,
      "id": "c5fec15a",
      "metadata": {
        "id": "c5fec15a",
        "colab": {
          "base_uri": "https://localhost:8080/"
        },
        "outputId": "0c67050a-837b-46a1-edd5-f60b617dff1f"
      },
      "outputs": [
        {
          "output_type": "stream",
          "name": "stdout",
          "text": [
            "Feature shape: (150, 4)\n",
            "Target shape: (150,)\n"
          ]
        }
      ],
      "source": [
        "from sklearn.datasets import load_iris\n",
        "\n",
        "data = load_iris()\n",
        "# NumPy array containing the features (input variables) of the dataset.\n",
        "# data.data.shape gives the shape of the features array — (number_of_samples, number_of_features)\n",
        "print(\"Feature shape:\", data.data.shape)\n",
        "\n",
        "# NumPy array containing the target labels (output variables) — the species of the iris flower for each sample.\n",
        "print(\"Target shape:\", data.target.shape)"
      ]
    },
    {
      "cell_type": "markdown",
      "id": "98f2de04",
      "metadata": {
        "id": "98f2de04"
      },
      "source": [
        "### 2. Splitting dataset into training and testing\n",
        "Use `train_test_split` to divide data into training and test sets.\n",
        "\n",
        "1.Evaluate Model Performance on Unseen Data\n",
        "Splitting ensures the model is tested on new, unseen data (the test set), so you can get an honest estimate of how well it will perform in real life.\n",
        "\n",
        "2.Prevent Overfitting\n",
        "-Training on all data without a test set means no way to check if the model is generalizing or just memorizing.\n",
        "-The test set acts as a holdout to detect overfitting.\n",
        "\n",
        "3.Tune Hyperparameters and Validate\n",
        "-The training set is used to fit the model.\n",
        "-We can further split training into a validation set to tune parameters.\n",
        "-The final test set checks the true performance."
      ]
    },
    {
      "cell_type": "code",
      "execution_count": 28,
      "id": "d1e9a46e",
      "metadata": {
        "id": "d1e9a46e",
        "colab": {
          "base_uri": "https://localhost:8080/"
        },
        "outputId": "17e67e67-8cbb-45a8-f063-3b8160b5d00a"
      },
      "outputs": [
        {
          "output_type": "stream",
          "name": "stdout",
          "text": [
            "Train size: (120, 4)\n",
            "Test size: (30, 4)\n"
          ]
        }
      ],
      "source": [
        "from sklearn.model_selection import train_test_split\n",
        "\n",
        "# X_train: Training features\n",
        "# X_test: Testing features\n",
        "# y_train: Training labels\n",
        "# y_test: Testing labels\n",
        "\n",
        "# data.data: Features (inputs)\n",
        "# data.target: Labels (outputs)\n",
        "# test_size=0.2: 20% of the data goes to the test set, 80% to the training set.\n",
        "# random_state=42: Sets the random seed to make the split reproducible (always the same split every time you run)\n",
        "# 99, get a different split.\n",
        "X_train, X_test, y_train, y_test = train_test_split(\n",
        "    data.data, data.target, test_size=0.2, random_state=42)\n",
        "\n",
        "print(\"Train size:\", X_train.shape)\n",
        "print(\"Test size:\", X_test.shape)"
      ]
    },
    {
      "cell_type": "markdown",
      "id": "5563e9c3",
      "metadata": {
        "id": "5563e9c3"
      },
      "source": [
        "### 3. Training a simple model\n",
        "Use Logistic Regression as a basic classifier."
      ]
    },
    {
      "cell_type": "code",
      "execution_count": 29,
      "id": "c418a542",
      "metadata": {
        "id": "c418a542",
        "colab": {
          "base_uri": "https://localhost:8080/",
          "height": 80
        },
        "outputId": "c2ff5b98-ab0a-4d43-d671-8fb0c74f91d0"
      },
      "outputs": [
        {
          "output_type": "execute_result",
          "data": {
            "text/plain": [
              "LogisticRegression(max_iter=200)"
            ],
            "text/html": [
              "<style>#sk-container-id-1 {\n",
              "  /* Definition of color scheme common for light and dark mode */\n",
              "  --sklearn-color-text: #000;\n",
              "  --sklearn-color-text-muted: #666;\n",
              "  --sklearn-color-line: gray;\n",
              "  /* Definition of color scheme for unfitted estimators */\n",
              "  --sklearn-color-unfitted-level-0: #fff5e6;\n",
              "  --sklearn-color-unfitted-level-1: #f6e4d2;\n",
              "  --sklearn-color-unfitted-level-2: #ffe0b3;\n",
              "  --sklearn-color-unfitted-level-3: chocolate;\n",
              "  /* Definition of color scheme for fitted estimators */\n",
              "  --sklearn-color-fitted-level-0: #f0f8ff;\n",
              "  --sklearn-color-fitted-level-1: #d4ebff;\n",
              "  --sklearn-color-fitted-level-2: #b3dbfd;\n",
              "  --sklearn-color-fitted-level-3: cornflowerblue;\n",
              "\n",
              "  /* Specific color for light theme */\n",
              "  --sklearn-color-text-on-default-background: var(--sg-text-color, var(--theme-code-foreground, var(--jp-content-font-color1, black)));\n",
              "  --sklearn-color-background: var(--sg-background-color, var(--theme-background, var(--jp-layout-color0, white)));\n",
              "  --sklearn-color-border-box: var(--sg-text-color, var(--theme-code-foreground, var(--jp-content-font-color1, black)));\n",
              "  --sklearn-color-icon: #696969;\n",
              "\n",
              "  @media (prefers-color-scheme: dark) {\n",
              "    /* Redefinition of color scheme for dark theme */\n",
              "    --sklearn-color-text-on-default-background: var(--sg-text-color, var(--theme-code-foreground, var(--jp-content-font-color1, white)));\n",
              "    --sklearn-color-background: var(--sg-background-color, var(--theme-background, var(--jp-layout-color0, #111)));\n",
              "    --sklearn-color-border-box: var(--sg-text-color, var(--theme-code-foreground, var(--jp-content-font-color1, white)));\n",
              "    --sklearn-color-icon: #878787;\n",
              "  }\n",
              "}\n",
              "\n",
              "#sk-container-id-1 {\n",
              "  color: var(--sklearn-color-text);\n",
              "}\n",
              "\n",
              "#sk-container-id-1 pre {\n",
              "  padding: 0;\n",
              "}\n",
              "\n",
              "#sk-container-id-1 input.sk-hidden--visually {\n",
              "  border: 0;\n",
              "  clip: rect(1px 1px 1px 1px);\n",
              "  clip: rect(1px, 1px, 1px, 1px);\n",
              "  height: 1px;\n",
              "  margin: -1px;\n",
              "  overflow: hidden;\n",
              "  padding: 0;\n",
              "  position: absolute;\n",
              "  width: 1px;\n",
              "}\n",
              "\n",
              "#sk-container-id-1 div.sk-dashed-wrapped {\n",
              "  border: 1px dashed var(--sklearn-color-line);\n",
              "  margin: 0 0.4em 0.5em 0.4em;\n",
              "  box-sizing: border-box;\n",
              "  padding-bottom: 0.4em;\n",
              "  background-color: var(--sklearn-color-background);\n",
              "}\n",
              "\n",
              "#sk-container-id-1 div.sk-container {\n",
              "  /* jupyter's `normalize.less` sets `[hidden] { display: none; }`\n",
              "     but bootstrap.min.css set `[hidden] { display: none !important; }`\n",
              "     so we also need the `!important` here to be able to override the\n",
              "     default hidden behavior on the sphinx rendered scikit-learn.org.\n",
              "     See: https://github.com/scikit-learn/scikit-learn/issues/21755 */\n",
              "  display: inline-block !important;\n",
              "  position: relative;\n",
              "}\n",
              "\n",
              "#sk-container-id-1 div.sk-text-repr-fallback {\n",
              "  display: none;\n",
              "}\n",
              "\n",
              "div.sk-parallel-item,\n",
              "div.sk-serial,\n",
              "div.sk-item {\n",
              "  /* draw centered vertical line to link estimators */\n",
              "  background-image: linear-gradient(var(--sklearn-color-text-on-default-background), var(--sklearn-color-text-on-default-background));\n",
              "  background-size: 2px 100%;\n",
              "  background-repeat: no-repeat;\n",
              "  background-position: center center;\n",
              "}\n",
              "\n",
              "/* Parallel-specific style estimator block */\n",
              "\n",
              "#sk-container-id-1 div.sk-parallel-item::after {\n",
              "  content: \"\";\n",
              "  width: 100%;\n",
              "  border-bottom: 2px solid var(--sklearn-color-text-on-default-background);\n",
              "  flex-grow: 1;\n",
              "}\n",
              "\n",
              "#sk-container-id-1 div.sk-parallel {\n",
              "  display: flex;\n",
              "  align-items: stretch;\n",
              "  justify-content: center;\n",
              "  background-color: var(--sklearn-color-background);\n",
              "  position: relative;\n",
              "}\n",
              "\n",
              "#sk-container-id-1 div.sk-parallel-item {\n",
              "  display: flex;\n",
              "  flex-direction: column;\n",
              "}\n",
              "\n",
              "#sk-container-id-1 div.sk-parallel-item:first-child::after {\n",
              "  align-self: flex-end;\n",
              "  width: 50%;\n",
              "}\n",
              "\n",
              "#sk-container-id-1 div.sk-parallel-item:last-child::after {\n",
              "  align-self: flex-start;\n",
              "  width: 50%;\n",
              "}\n",
              "\n",
              "#sk-container-id-1 div.sk-parallel-item:only-child::after {\n",
              "  width: 0;\n",
              "}\n",
              "\n",
              "/* Serial-specific style estimator block */\n",
              "\n",
              "#sk-container-id-1 div.sk-serial {\n",
              "  display: flex;\n",
              "  flex-direction: column;\n",
              "  align-items: center;\n",
              "  background-color: var(--sklearn-color-background);\n",
              "  padding-right: 1em;\n",
              "  padding-left: 1em;\n",
              "}\n",
              "\n",
              "\n",
              "/* Toggleable style: style used for estimator/Pipeline/ColumnTransformer box that is\n",
              "clickable and can be expanded/collapsed.\n",
              "- Pipeline and ColumnTransformer use this feature and define the default style\n",
              "- Estimators will overwrite some part of the style using the `sk-estimator` class\n",
              "*/\n",
              "\n",
              "/* Pipeline and ColumnTransformer style (default) */\n",
              "\n",
              "#sk-container-id-1 div.sk-toggleable {\n",
              "  /* Default theme specific background. It is overwritten whether we have a\n",
              "  specific estimator or a Pipeline/ColumnTransformer */\n",
              "  background-color: var(--sklearn-color-background);\n",
              "}\n",
              "\n",
              "/* Toggleable label */\n",
              "#sk-container-id-1 label.sk-toggleable__label {\n",
              "  cursor: pointer;\n",
              "  display: flex;\n",
              "  width: 100%;\n",
              "  margin-bottom: 0;\n",
              "  padding: 0.5em;\n",
              "  box-sizing: border-box;\n",
              "  text-align: center;\n",
              "  align-items: start;\n",
              "  justify-content: space-between;\n",
              "  gap: 0.5em;\n",
              "}\n",
              "\n",
              "#sk-container-id-1 label.sk-toggleable__label .caption {\n",
              "  font-size: 0.6rem;\n",
              "  font-weight: lighter;\n",
              "  color: var(--sklearn-color-text-muted);\n",
              "}\n",
              "\n",
              "#sk-container-id-1 label.sk-toggleable__label-arrow:before {\n",
              "  /* Arrow on the left of the label */\n",
              "  content: \"▸\";\n",
              "  float: left;\n",
              "  margin-right: 0.25em;\n",
              "  color: var(--sklearn-color-icon);\n",
              "}\n",
              "\n",
              "#sk-container-id-1 label.sk-toggleable__label-arrow:hover:before {\n",
              "  color: var(--sklearn-color-text);\n",
              "}\n",
              "\n",
              "/* Toggleable content - dropdown */\n",
              "\n",
              "#sk-container-id-1 div.sk-toggleable__content {\n",
              "  max-height: 0;\n",
              "  max-width: 0;\n",
              "  overflow: hidden;\n",
              "  text-align: left;\n",
              "  /* unfitted */\n",
              "  background-color: var(--sklearn-color-unfitted-level-0);\n",
              "}\n",
              "\n",
              "#sk-container-id-1 div.sk-toggleable__content.fitted {\n",
              "  /* fitted */\n",
              "  background-color: var(--sklearn-color-fitted-level-0);\n",
              "}\n",
              "\n",
              "#sk-container-id-1 div.sk-toggleable__content pre {\n",
              "  margin: 0.2em;\n",
              "  border-radius: 0.25em;\n",
              "  color: var(--sklearn-color-text);\n",
              "  /* unfitted */\n",
              "  background-color: var(--sklearn-color-unfitted-level-0);\n",
              "}\n",
              "\n",
              "#sk-container-id-1 div.sk-toggleable__content.fitted pre {\n",
              "  /* unfitted */\n",
              "  background-color: var(--sklearn-color-fitted-level-0);\n",
              "}\n",
              "\n",
              "#sk-container-id-1 input.sk-toggleable__control:checked~div.sk-toggleable__content {\n",
              "  /* Expand drop-down */\n",
              "  max-height: 200px;\n",
              "  max-width: 100%;\n",
              "  overflow: auto;\n",
              "}\n",
              "\n",
              "#sk-container-id-1 input.sk-toggleable__control:checked~label.sk-toggleable__label-arrow:before {\n",
              "  content: \"▾\";\n",
              "}\n",
              "\n",
              "/* Pipeline/ColumnTransformer-specific style */\n",
              "\n",
              "#sk-container-id-1 div.sk-label input.sk-toggleable__control:checked~label.sk-toggleable__label {\n",
              "  color: var(--sklearn-color-text);\n",
              "  background-color: var(--sklearn-color-unfitted-level-2);\n",
              "}\n",
              "\n",
              "#sk-container-id-1 div.sk-label.fitted input.sk-toggleable__control:checked~label.sk-toggleable__label {\n",
              "  background-color: var(--sklearn-color-fitted-level-2);\n",
              "}\n",
              "\n",
              "/* Estimator-specific style */\n",
              "\n",
              "/* Colorize estimator box */\n",
              "#sk-container-id-1 div.sk-estimator input.sk-toggleable__control:checked~label.sk-toggleable__label {\n",
              "  /* unfitted */\n",
              "  background-color: var(--sklearn-color-unfitted-level-2);\n",
              "}\n",
              "\n",
              "#sk-container-id-1 div.sk-estimator.fitted input.sk-toggleable__control:checked~label.sk-toggleable__label {\n",
              "  /* fitted */\n",
              "  background-color: var(--sklearn-color-fitted-level-2);\n",
              "}\n",
              "\n",
              "#sk-container-id-1 div.sk-label label.sk-toggleable__label,\n",
              "#sk-container-id-1 div.sk-label label {\n",
              "  /* The background is the default theme color */\n",
              "  color: var(--sklearn-color-text-on-default-background);\n",
              "}\n",
              "\n",
              "/* On hover, darken the color of the background */\n",
              "#sk-container-id-1 div.sk-label:hover label.sk-toggleable__label {\n",
              "  color: var(--sklearn-color-text);\n",
              "  background-color: var(--sklearn-color-unfitted-level-2);\n",
              "}\n",
              "\n",
              "/* Label box, darken color on hover, fitted */\n",
              "#sk-container-id-1 div.sk-label.fitted:hover label.sk-toggleable__label.fitted {\n",
              "  color: var(--sklearn-color-text);\n",
              "  background-color: var(--sklearn-color-fitted-level-2);\n",
              "}\n",
              "\n",
              "/* Estimator label */\n",
              "\n",
              "#sk-container-id-1 div.sk-label label {\n",
              "  font-family: monospace;\n",
              "  font-weight: bold;\n",
              "  display: inline-block;\n",
              "  line-height: 1.2em;\n",
              "}\n",
              "\n",
              "#sk-container-id-1 div.sk-label-container {\n",
              "  text-align: center;\n",
              "}\n",
              "\n",
              "/* Estimator-specific */\n",
              "#sk-container-id-1 div.sk-estimator {\n",
              "  font-family: monospace;\n",
              "  border: 1px dotted var(--sklearn-color-border-box);\n",
              "  border-radius: 0.25em;\n",
              "  box-sizing: border-box;\n",
              "  margin-bottom: 0.5em;\n",
              "  /* unfitted */\n",
              "  background-color: var(--sklearn-color-unfitted-level-0);\n",
              "}\n",
              "\n",
              "#sk-container-id-1 div.sk-estimator.fitted {\n",
              "  /* fitted */\n",
              "  background-color: var(--sklearn-color-fitted-level-0);\n",
              "}\n",
              "\n",
              "/* on hover */\n",
              "#sk-container-id-1 div.sk-estimator:hover {\n",
              "  /* unfitted */\n",
              "  background-color: var(--sklearn-color-unfitted-level-2);\n",
              "}\n",
              "\n",
              "#sk-container-id-1 div.sk-estimator.fitted:hover {\n",
              "  /* fitted */\n",
              "  background-color: var(--sklearn-color-fitted-level-2);\n",
              "}\n",
              "\n",
              "/* Specification for estimator info (e.g. \"i\" and \"?\") */\n",
              "\n",
              "/* Common style for \"i\" and \"?\" */\n",
              "\n",
              ".sk-estimator-doc-link,\n",
              "a:link.sk-estimator-doc-link,\n",
              "a:visited.sk-estimator-doc-link {\n",
              "  float: right;\n",
              "  font-size: smaller;\n",
              "  line-height: 1em;\n",
              "  font-family: monospace;\n",
              "  background-color: var(--sklearn-color-background);\n",
              "  border-radius: 1em;\n",
              "  height: 1em;\n",
              "  width: 1em;\n",
              "  text-decoration: none !important;\n",
              "  margin-left: 0.5em;\n",
              "  text-align: center;\n",
              "  /* unfitted */\n",
              "  border: var(--sklearn-color-unfitted-level-1) 1pt solid;\n",
              "  color: var(--sklearn-color-unfitted-level-1);\n",
              "}\n",
              "\n",
              ".sk-estimator-doc-link.fitted,\n",
              "a:link.sk-estimator-doc-link.fitted,\n",
              "a:visited.sk-estimator-doc-link.fitted {\n",
              "  /* fitted */\n",
              "  border: var(--sklearn-color-fitted-level-1) 1pt solid;\n",
              "  color: var(--sklearn-color-fitted-level-1);\n",
              "}\n",
              "\n",
              "/* On hover */\n",
              "div.sk-estimator:hover .sk-estimator-doc-link:hover,\n",
              ".sk-estimator-doc-link:hover,\n",
              "div.sk-label-container:hover .sk-estimator-doc-link:hover,\n",
              ".sk-estimator-doc-link:hover {\n",
              "  /* unfitted */\n",
              "  background-color: var(--sklearn-color-unfitted-level-3);\n",
              "  color: var(--sklearn-color-background);\n",
              "  text-decoration: none;\n",
              "}\n",
              "\n",
              "div.sk-estimator.fitted:hover .sk-estimator-doc-link.fitted:hover,\n",
              ".sk-estimator-doc-link.fitted:hover,\n",
              "div.sk-label-container:hover .sk-estimator-doc-link.fitted:hover,\n",
              ".sk-estimator-doc-link.fitted:hover {\n",
              "  /* fitted */\n",
              "  background-color: var(--sklearn-color-fitted-level-3);\n",
              "  color: var(--sklearn-color-background);\n",
              "  text-decoration: none;\n",
              "}\n",
              "\n",
              "/* Span, style for the box shown on hovering the info icon */\n",
              ".sk-estimator-doc-link span {\n",
              "  display: none;\n",
              "  z-index: 9999;\n",
              "  position: relative;\n",
              "  font-weight: normal;\n",
              "  right: .2ex;\n",
              "  padding: .5ex;\n",
              "  margin: .5ex;\n",
              "  width: min-content;\n",
              "  min-width: 20ex;\n",
              "  max-width: 50ex;\n",
              "  color: var(--sklearn-color-text);\n",
              "  box-shadow: 2pt 2pt 4pt #999;\n",
              "  /* unfitted */\n",
              "  background: var(--sklearn-color-unfitted-level-0);\n",
              "  border: .5pt solid var(--sklearn-color-unfitted-level-3);\n",
              "}\n",
              "\n",
              ".sk-estimator-doc-link.fitted span {\n",
              "  /* fitted */\n",
              "  background: var(--sklearn-color-fitted-level-0);\n",
              "  border: var(--sklearn-color-fitted-level-3);\n",
              "}\n",
              "\n",
              ".sk-estimator-doc-link:hover span {\n",
              "  display: block;\n",
              "}\n",
              "\n",
              "/* \"?\"-specific style due to the `<a>` HTML tag */\n",
              "\n",
              "#sk-container-id-1 a.estimator_doc_link {\n",
              "  float: right;\n",
              "  font-size: 1rem;\n",
              "  line-height: 1em;\n",
              "  font-family: monospace;\n",
              "  background-color: var(--sklearn-color-background);\n",
              "  border-radius: 1rem;\n",
              "  height: 1rem;\n",
              "  width: 1rem;\n",
              "  text-decoration: none;\n",
              "  /* unfitted */\n",
              "  color: var(--sklearn-color-unfitted-level-1);\n",
              "  border: var(--sklearn-color-unfitted-level-1) 1pt solid;\n",
              "}\n",
              "\n",
              "#sk-container-id-1 a.estimator_doc_link.fitted {\n",
              "  /* fitted */\n",
              "  border: var(--sklearn-color-fitted-level-1) 1pt solid;\n",
              "  color: var(--sklearn-color-fitted-level-1);\n",
              "}\n",
              "\n",
              "/* On hover */\n",
              "#sk-container-id-1 a.estimator_doc_link:hover {\n",
              "  /* unfitted */\n",
              "  background-color: var(--sklearn-color-unfitted-level-3);\n",
              "  color: var(--sklearn-color-background);\n",
              "  text-decoration: none;\n",
              "}\n",
              "\n",
              "#sk-container-id-1 a.estimator_doc_link.fitted:hover {\n",
              "  /* fitted */\n",
              "  background-color: var(--sklearn-color-fitted-level-3);\n",
              "}\n",
              "</style><div id=\"sk-container-id-1\" class=\"sk-top-container\"><div class=\"sk-text-repr-fallback\"><pre>LogisticRegression(max_iter=200)</pre><b>In a Jupyter environment, please rerun this cell to show the HTML representation or trust the notebook. <br />On GitHub, the HTML representation is unable to render, please try loading this page with nbviewer.org.</b></div><div class=\"sk-container\" hidden><div class=\"sk-item\"><div class=\"sk-estimator fitted sk-toggleable\"><input class=\"sk-toggleable__control sk-hidden--visually\" id=\"sk-estimator-id-1\" type=\"checkbox\" checked><label for=\"sk-estimator-id-1\" class=\"sk-toggleable__label fitted sk-toggleable__label-arrow\"><div><div>LogisticRegression</div></div><div><a class=\"sk-estimator-doc-link fitted\" rel=\"noreferrer\" target=\"_blank\" href=\"https://scikit-learn.org/1.6/modules/generated/sklearn.linear_model.LogisticRegression.html\">?<span>Documentation for LogisticRegression</span></a><span class=\"sk-estimator-doc-link fitted\">i<span>Fitted</span></span></div></label><div class=\"sk-toggleable__content fitted\"><pre>LogisticRegression(max_iter=200)</pre></div> </div></div></div></div>"
            ]
          },
          "metadata": {},
          "execution_count": 29
        }
      ],
      "source": [
        "from sklearn.linear_model import LogisticRegression\n",
        "\n",
        "# This creates a Logistic Regression model instance\n",
        "# Max_iter=200 tells the model to perform up to 200 iterations while trying to find the best parameters\n",
        "model = LogisticRegression(max_iter=200)\n",
        "\n",
        "# Trains the model using training data\n",
        "model.fit(X_train, y_train)"
      ]
    },
    {
      "cell_type": "markdown",
      "id": "59f424e4",
      "metadata": {
        "id": "59f424e4"
      },
      "source": [
        "### 4. Making predictions and evaluating model\n",
        "Use accuracy as the evaluation metric."
      ]
    },
    {
      "cell_type": "code",
      "execution_count": 30,
      "id": "97c13c70",
      "metadata": {
        "id": "97c13c70",
        "colab": {
          "base_uri": "https://localhost:8080/"
        },
        "outputId": "e53a8a9d-5196-4a23-b6ec-8117f0ce8858"
      },
      "outputs": [
        {
          "output_type": "stream",
          "name": "stdout",
          "text": [
            "[1 0 2 1 1 0 1 2 1 1 2 0 0 0 0 1 2 1 1 2 0 2 0 2 2 2 2 2 0 0]\n",
            "Accuracy: 1.0\n"
          ]
        }
      ],
      "source": [
        "from sklearn.metrics import accuracy_score\n",
        "\n",
        "# Make predictions on the test data (X_test)\n",
        "y_pred = model.predict(X_test)\n",
        "print(y_pred)\n",
        "# Compares the predicted labels (y_pred) to the true labels (y_test).\n",
        "\n",
        "# Calculates accuracy:\n",
        "\"\"\"\n",
        "Accuracy= Number of correct predictions/Total number of predictions\n",
        "\n",
        "​\"\"\"\n",
        "\n",
        "accuracy = accuracy_score(y_test, y_pred)\n",
        "print(\"Accuracy:\", accuracy)"
      ]
    }
  ],
  "metadata": {
    "colab": {
      "provenance": []
    },
    "language_info": {
      "name": "python"
    },
    "kernelspec": {
      "name": "python3",
      "display_name": "Python 3"
    }
  },
  "nbformat": 4,
  "nbformat_minor": 5
}