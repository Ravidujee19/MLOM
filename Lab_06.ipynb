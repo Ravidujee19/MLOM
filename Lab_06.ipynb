{
  "nbformat": 4,
  "nbformat_minor": 0,
  "metadata": {
    "colab": {
      "provenance": []
    },
    "kernelspec": {
      "name": "python3",
      "display_name": "Python 3"
    },
    "language_info": {
      "name": "python"
    }
  },
  "cells": [
    {
      "cell_type": "markdown",
      "source": [
        "##Part A"
      ],
      "metadata": {
        "id": "zS0F0hkPRIbt"
      }
    },
    {
      "cell_type": "markdown",
      "source": [
        "Import Required Libraries"
      ],
      "metadata": {
        "id": "3wmEGtkNOgm7"
      }
    },
    {
      "cell_type": "code",
      "execution_count": 1,
      "metadata": {
        "id": "3YIQYzE_OacW"
      },
      "outputs": [],
      "source": [
        "# Import necessary libraries\n",
        "import numpy as np                     # For numerical operations and array handling\n",
        "import matplotlib.pyplot as plt        # For data visualization (plotting images, graphs)\n",
        "\n",
        "# Import dataset and utilities from Keras\n",
        "from keras.datasets import fashion_mnist   # Fashion MNIST dataset (clothing images)\n",
        "from keras.utils import to_categorical     # Utility to convert labels into one-hot encoding\n",
        "\n",
        "# Import Keras model and layers\n",
        "from keras.models import Sequential        # Sequential model (stack layers in order)\n",
        "from keras.layers import Conv2D, MaxPooling2D, Dense, Flatten, LeakyReLU\n",
        "# Conv2D → Convolution layer (feature extraction from images)\n",
        "# MaxPooling2D → Downsampling layer (reduces dimensions)\n",
        "# Dense → Fully connected layer (classification/decision making)\n",
        "# Flatten → Converts 2D feature maps into 1D vectors\n",
        "# LeakyReLU → Activation function (fixes dying ReLU problem)\n",
        "\n",
        "# Import loss function and optimizer\n",
        "from keras.losses import categorical_crossentropy  # Loss function for multi-class classification\n",
        "from keras.optimizers import Adam                  # Adam optimizer (adaptive learning rate)\n",
        "\n",
        "# Import train-test split utility\n",
        "from sklearn.model_selection import train_test_split  # Split dataset into train and test sets\n"
      ]
    },
    {
      "cell_type": "markdown",
      "source": [
        "Load the Dataset"
      ],
      "metadata": {
        "id": "dHTiugK3O0Pj"
      }
    },
    {
      "cell_type": "code",
      "source": [
        "# Load the Fashion MNIST dataset\n",
        "# train_X, train_Y → training images and their labels\n",
        "# test_X, test_Y   → testing images and their labels\n",
        "(train_X, train_Y), (test_X, test_Y) = fashion_mnist.load_data()\n",
        "\n",
        "# Print the shape of training data\n",
        "# train_X → images, shape will be (60000, 28, 28) → 60k grayscale images of size 28x28\n",
        "# train_Y → labels, shape will be (60000,) → one label per image\n",
        "print('Training data shape : ', train_X.shape, train_Y.shape)\n",
        "\n",
        "# Print the shape of testing data\n",
        "# test_X → images, shape will be (10000, 28, 28) → 10k grayscale images\n",
        "# test_Y → labels, shape will be (10000,) → one label per image\n",
        "print('Testing data shape : ', test_X.shape, test_Y.shape)"
      ],
      "metadata": {
        "colab": {
          "base_uri": "https://localhost:8080/"
        },
        "id": "EKCLU2lDO5WU",
        "outputId": "fd598036-f43d-467a-c226-2de6316ef6c9"
      },
      "execution_count": 2,
      "outputs": [
        {
          "output_type": "stream",
          "name": "stdout",
          "text": [
            "Training data shape :  (60000, 28, 28) (60000,)\n",
            "Testing data shape :  (10000, 28, 28) (10000,)\n"
          ]
        }
      ]
    },
    {
      "cell_type": "markdown",
      "source": [
        "Visualize a Sample"
      ],
      "metadata": {
        "id": "mJV_k-e2PZ38"
      }
    },
    {
      "cell_type": "code",
      "source": [
        "# Plot the first training image with its label\n",
        "plt.figure(figsize=(2,2))                     # Set figure size to 2x2 inches\n",
        "plt.imshow(train_X[0,:,:], cmap='gray')       # Display the first image (28x28 pixels) in grayscale\n",
        "plt.title(\"Label : {}\".format(train_Y[0]))    # Add the label as the title of the image\n",
        "plt.show()                                    # Show the plotted image"
      ],
      "metadata": {
        "colab": {
          "base_uri": "https://localhost:8080/",
          "height": 237
        },
        "id": "AOrhUnwbPbC_",
        "outputId": "d1b807de-f124-475d-c7ca-5de567a23277"
      },
      "execution_count": 3,
      "outputs": [
        {
          "output_type": "display_data",
          "data": {
            "text/plain": [
              "<Figure size 200x200 with 1 Axes>"
            ],
            "image/png": "[encoded data removed]"
          },
          "metadata": {}
        }
      ]
    },
    {
      "cell_type": "markdown",
      "source": [
        "Reshape to include channel dimension"
      ],
      "metadata": {
        "id": "lIFixl0iPr4i"
      }
    },
    {
      "cell_type": "code",
      "source": [
        "# Reshape the training and testing images to add a channel dimension\n",
        "# Original shape: (60000, 28, 28) → 3D (samples, height, width)\n",
        "# New shape:      (60000, 28, 28, 1) → 4D (samples, height, width, channels)\n",
        "# The last dimension (1) represents grayscale channel (since images are not RGB)\n",
        "\n",
        "train_X = train_X.reshape(len(train_X), 28, 28, 1)   # Reshape training set\n",
        "test_X = test_X.reshape(len(test_X), 28, 28, 1)      # Reshape testing set"
      ],
      "metadata": {
        "id": "lEtJpU5yPtcg"
      },
      "execution_count": 4,
      "outputs": []
    },
    {
      "cell_type": "markdown",
      "source": [
        "Normalize"
      ],
      "metadata": {
        "id": "EteGYDjJQGdS"
      }
    },
    {
      "cell_type": "code",
      "source": [
        "# Normalize pixel values to the range [0, 1]\n",
        "# Images originally have pixel values in range [0, 255]\n",
        "# Dividing by 255.0 converts them into floats between 0 and 1\n",
        "# This helps the neural network train faster and more efficiently\n",
        "\n",
        "train_X = train_X.astype('float32') / 255    # Normalize training set\n",
        "test_X = test_X.astype('float32') / 255      # Normalize testing set"
      ],
      "metadata": {
        "id": "Prkf2zicQJuC"
      },
      "execution_count": 5,
      "outputs": []
    },
    {
      "cell_type": "markdown",
      "source": [
        "One-hot encode labels"
      ],
      "metadata": {
        "id": "i8JOtSHxQkHB"
      }
    },
    {
      "cell_type": "code",
      "source": [
        "# Convert class labels (0–9) into one-hot encoded vectors\n",
        "# Example:\n",
        "#   Label 3 → [0, 0, 0, 1, 0, 0, 0, 0, 0, 0]\n",
        "#   Label 7 → [0, 0, 0, 0, 0, 0, 0, 1, 0, 0]\n",
        "# This is required because we are using categorical_crossentropy as the loss function,\n",
        "# which expects one-hot encoded targets for multi-class classification.\n",
        "\n",
        "train_Y_one_hot = to_categorical(train_Y)   # Shape: (60000, 10)\n",
        "test_Y_one_hot = to_categorical(test_Y)     # Shape: (10000, 10)"
      ],
      "metadata": {
        "id": "nudoXAg8QRN-"
      },
      "execution_count": 6,
      "outputs": []
    },
    {
      "cell_type": "markdown",
      "source": [
        "Split into train/validation"
      ],
      "metadata": {
        "id": "zkiHEGugQxZG"
      }
    },
    {
      "cell_type": "code",
      "source": [
        "# Split the training data into training and validation sets\n",
        "# train_test_split allows us to hold out a portion of training data for validation\n",
        "# Validation set is used to monitor the model's performance during training\n",
        "# test_size=0.2 → 20% of training data becomes validation set\n",
        "# random_state=0 → ensures reproducibility (same split every time)\n",
        "\n",
        "train_X, valid_X, train_label, valid_label = train_test_split(\n",
        "    train_X,               # Input images for training\n",
        "    train_Y_one_hot,       # One-hot encoded labels for training\n",
        "    test_size=0.2,         # 20% data for validation\n",
        "    random_state=0         # Seed for reproducibility\n",
        ")"
      ],
      "metadata": {
        "id": "JLYTyEdgQyvh"
      },
      "execution_count": 7,
      "outputs": []
    },
    {
      "cell_type": "markdown",
      "source": [
        "##Part B"
      ],
      "metadata": {
        "id": "_XFwvflURCQS"
      }
    },
    {
      "cell_type": "markdown",
      "source": [
        "Hyperparameters"
      ],
      "metadata": {
        "id": "egFdv6f0Q5WF"
      }
    },
    {
      "cell_type": "code",
      "source": [
        "batch_size = 64     # Number of samples per gradient update\n",
        "# Using batches allows the model to train faster and with less memory usage\n",
        "\n",
        "epochs = 20         # Number of times the model will iterate over the entire training dataset\n",
        "# More epochs allow the model to learn better, but too many can cause overfitting\n",
        "\n",
        "num_classes = 10    # Total number of output classes in the dataset\n",
        "# Fashion MNIST has 10 categories: T-shirt/top, Trouser, Pullover, Dress, Coat, Sandal, Shirt, Sneaker, Bag, Ankle boot"
      ],
      "metadata": {
        "id": "sT95tOaYQ8FI"
      },
      "execution_count": 8,
      "outputs": []
    },
    {
      "cell_type": "markdown",
      "source": [
        "CNN Architecture"
      ],
      "metadata": {
        "id": "0U8s3bFPRdZd"
      }
    },
    {
      "cell_type": "code",
      "source": [
        "# Initialize a Sequential model (stack layers one after another)\n",
        "model = Sequential()\n",
        "\n",
        "# 1st Convolutional Layer\n",
        "model.add(Conv2D(\n",
        "    32,                     # Number of filters (feature maps) → 32\n",
        "    kernel_size=(3, 3),     # 3x3 convolution kernel\n",
        "    activation='linear',    # Linear activation (we'll use LeakyReLU separately)\n",
        "    input_shape=(28,28,1),  # Input shape: 28x28 grayscale images\n",
        "    padding='same'          # Padding ensures output has same size as input\n",
        "))\n",
        "model.add(LeakyReLU(alpha=0.1))   # LeakyReLU activation with small slope for negative values\n",
        "\n",
        "# 1st Max Pooling Layer\n",
        "model.add(MaxPooling2D(\n",
        "    (2, 2),                # Downsamples the feature map by 2x2\n",
        "    padding='same'          # Keep dimensions divisible by 2\n",
        "))\n",
        "\n",
        "# 2nd Convolutional Layer\n",
        "model.add(Conv2D(\n",
        "    64,                    # 64 filters → more complex features\n",
        "    (3, 3),\n",
        "    activation='linear',\n",
        "    padding='same'\n",
        "))\n",
        "model.add(LeakyReLU(alpha=0.1))  # Activation\n",
        "model.add(MaxPooling2D(pool_size=(2, 2), padding='same'))  # Downsampling\n",
        "\n",
        "# 3rd Convolutional Layer\n",
        "model.add(Conv2D(\n",
        "    128,                   # 128 filters → capturing even more complex patterns\n",
        "    (3, 3),\n",
        "    activation='linear',\n",
        "    padding='same'\n",
        "))\n",
        "model.add(LeakyReLU(alpha=0.1))\n",
        "model.add(MaxPooling2D(pool_size=(2, 2), padding='same'))\n",
        "\n",
        "# Flatten layer to convert 2D feature maps into 1D vector\n",
        "model.add(Flatten())\n",
        "\n",
        "# Fully Connected (Dense) layer\n",
        "model.add(Dense(\n",
        "    128,                   # 128 neurons\n",
        "    activation='linear'    # Linear activation; LeakyReLU will be applied next\n",
        "))\n",
        "model.add(LeakyReLU(alpha=0.1))\n",
        "\n",
        "# Output layer\n",
        "model.add(Dense(\n",
        "    num_classes,           # 10 classes for Fashion MNIST\n",
        "    activation='softmax'   # Softmax for multi-class probability distribution\n",
        "))\n",
        "\n",
        "# Compile the model\n",
        "model.compile(\n",
        "    loss=categorical_crossentropy,   # Loss function for multi-class classification\n",
        "    optimizer=Adam(),                # Adam optimizer (adaptive learning rate)\n",
        "    metrics=['accuracy']             # Monitor accuracy during training\n",
        ")\n",
        "\n",
        "# Print model summary\n",
        "model.summary()"
      ],
      "metadata": {
        "colab": {
          "base_uri": "https://localhost:8080/",
          "height": 634
        },
        "id": "XOoBMObeRew9",
        "outputId": "75585921-25a1-4acc-e075-05fa90a2fff8"
      },
      "execution_count": 9,
      "outputs": [
        {
          "output_type": "stream",
          "name": "stderr",
          "text": [
            "/usr/local/lib/python3.12/dist-packages/keras/src/layers/convolutional/base_conv.py:113: UserWarning: Do not pass an `input_shape`/`input_dim` argument to a layer. When using Sequential models, prefer using an `Input(shape)` object as the first layer in the model instead.\n",
            "  super().__init__(activity_regularizer=activity_regularizer, **kwargs)\n",
            "/usr/local/lib/python3.12/dist-packages/keras/src/layers/activations/leaky_relu.py:41: UserWarning: Argument `alpha` is deprecated. Use `negative_slope` instead.\n",
            "  warnings.warn(\n"
          ]
        },
        {
          "output_type": "display_data",
          "data": {
            "text/plain": [
              "\u001b[1mModel: \"sequential\"\u001b[0m\n"
            ],
            "text/html": [
              "<pre style=\"white-space:pre;overflow-x:auto;line-height:normal;font-family:Menlo,'DejaVu Sans Mono',consolas,'Courier New',monospace\"><span style=\"font-weight: bold\">Model: \"sequential\"</span>\n",
              "</pre>\n"
            ]
          },
          "metadata": {}
        },
        {
          "output_type": "display_data",
          "data": {
            "text/plain": [
              "┏━━━━━━━━━━━━━━━━━━━━━━━━━━━━━━━━━┳━━━━━━━━━━━━━━━━━━━━━━━━┳━━━━━━━━━━━━━━━┓\n",
              "┃\u001b[1m \u001b[0m\u001b[1mLayer (type)                   \u001b[0m\u001b[1m \u001b[0m┃\u001b[1m \u001b[0m\u001b[1mOutput Shape          \u001b[0m\u001b[1m \u001b[0m┃\u001b[1m \u001b[0m\u001b[1m      Param #\u001b[0m\u001b[1m \u001b[0m┃\n",
              "┡━━━━━━━━━━━━━━━━━━━━━━━━━━━━━━━━━╇━━━━━━━━━━━━━━━━━━━━━━━━╇━━━━━━━━━━━━━━━┩\n",
              "│ conv2d (\u001b[38;5;33mConv2D\u001b[0m)                 │ (\u001b[38;5;45mNone\u001b[0m, \u001b[38;5;34m28\u001b[0m, \u001b[38;5;34m28\u001b[0m, \u001b[38;5;34m32\u001b[0m)     │           \u001b[38;5;34m320\u001b[0m │\n",
              "├─────────────────────────────────┼────────────────────────┼───────────────┤\n",
              "│ leaky_re_lu (\u001b[38;5;33mLeakyReLU\u001b[0m)         │ (\u001b[38;5;45mNone\u001b[0m, \u001b[38;5;34m28\u001b[0m, \u001b[38;5;34m28\u001b[0m, \u001b[38;5;34m32\u001b[0m)     │             \u001b[38;5;34m0\u001b[0m │\n",
              "├─────────────────────────────────┼────────────────────────┼───────────────┤\n",
              "│ max_pooling2d (\u001b[38;5;33mMaxPooling2D\u001b[0m)    │ (\u001b[38;5;45mNone\u001b[0m, \u001b[38;5;34m14\u001b[0m, \u001b[38;5;34m14\u001b[0m, \u001b[38;5;34m32\u001b[0m)     │             \u001b[38;5;34m0\u001b[0m │\n",
              "├─────────────────────────────────┼────────────────────────┼───────────────┤\n",
              "│ conv2d_1 (\u001b[38;5;33mConv2D\u001b[0m)               │ (\u001b[38;5;45mNone\u001b[0m, \u001b[38;5;34m14\u001b[0m, \u001b[38;5;34m14\u001b[0m, \u001b[38;5;34m64\u001b[0m)     │        \u001b[38;5;34m18,496\u001b[0m │\n",
              "├─────────────────────────────────┼────────────────────────┼───────────────┤\n",
              "│ leaky_re_lu_1 (\u001b[38;5;33mLeakyReLU\u001b[0m)       │ (\u001b[38;5;45mNone\u001b[0m, \u001b[38;5;34m14\u001b[0m, \u001b[38;5;34m14\u001b[0m, \u001b[38;5;34m64\u001b[0m)     │             \u001b[38;5;34m0\u001b[0m │\n",
              "├─────────────────────────────────┼────────────────────────┼───────────────┤\n",
              "│ max_pooling2d_1 (\u001b[38;5;33mMaxPooling2D\u001b[0m)  │ (\u001b[38;5;45mNone\u001b[0m, \u001b[38;5;34m7\u001b[0m, \u001b[38;5;34m7\u001b[0m, \u001b[38;5;34m64\u001b[0m)       │             \u001b[38;5;34m0\u001b[0m │\n",
              "├─────────────────────────────────┼────────────────────────┼───────────────┤\n",
              "│ conv2d_2 (\u001b[38;5;33mConv2D\u001b[0m)               │ (\u001b[38;5;45mNone\u001b[0m, \u001b[38;5;34m7\u001b[0m, \u001b[38;5;34m7\u001b[0m, \u001b[38;5;34m128\u001b[0m)      │        \u001b[38;5;34m73,856\u001b[0m │\n",
              "├─────────────────────────────────┼────────────────────────┼───────────────┤\n",
              "│ leaky_re_lu_2 (\u001b[38;5;33mLeakyReLU\u001b[0m)       │ (\u001b[38;5;45mNone\u001b[0m, \u001b[38;5;34m7\u001b[0m, \u001b[38;5;34m7\u001b[0m, \u001b[38;5;34m128\u001b[0m)      │             \u001b[38;5;34m0\u001b[0m │\n",
              "├─────────────────────────────────┼────────────────────────┼───────────────┤\n",
              "│ max_pooling2d_2 (\u001b[38;5;33mMaxPooling2D\u001b[0m)  │ (\u001b[38;5;45mNone\u001b[0m, \u001b[38;5;34m4\u001b[0m, \u001b[38;5;34m4\u001b[0m, \u001b[38;5;34m128\u001b[0m)      │             \u001b[38;5;34m0\u001b[0m │\n",
              "├─────────────────────────────────┼────────────────────────┼───────────────┤\n",
              "│ flatten (\u001b[38;5;33mFlatten\u001b[0m)               │ (\u001b[38;5;45mNone\u001b[0m, \u001b[38;5;34m2048\u001b[0m)           │             \u001b[38;5;34m0\u001b[0m │\n",
              "├─────────────────────────────────┼────────────────────────┼───────────────┤\n",
              "│ dense (\u001b[38;5;33mDense\u001b[0m)                   │ (\u001b[38;5;45mNone\u001b[0m, \u001b[38;5;34m128\u001b[0m)            │       \u001b[38;5;34m262,272\u001b[0m │\n",
              "├─────────────────────────────────┼────────────────────────┼───────────────┤\n",
              "│ leaky_re_lu_3 (\u001b[38;5;33mLeakyReLU\u001b[0m)       │ (\u001b[38;5;45mNone\u001b[0m, \u001b[38;5;34m128\u001b[0m)            │             \u001b[38;5;34m0\u001b[0m │\n",
              "├─────────────────────────────────┼────────────────────────┼───────────────┤\n",
              "│ dense_1 (\u001b[38;5;33mDense\u001b[0m)                 │ (\u001b[38;5;45mNone\u001b[0m, \u001b[38;5;34m10\u001b[0m)             │         \u001b[38;5;34m1,290\u001b[0m │\n",
              "└─────────────────────────────────┴────────────────────────┴───────────────┘\n"
            ],
            "text/html": [
              "<pre style=\"white-space:pre;overflow-x:auto;line-height:normal;font-family:Menlo,'DejaVu Sans Mono',consolas,'Courier New',monospace\">┏━━━━━━━━━━━━━━━━━━━━━━━━━━━━━━━━━┳━━━━━━━━━━━━━━━━━━━━━━━━┳━━━━━━━━━━━━━━━┓\n",
              "┃<span style=\"font-weight: bold\"> Layer (type)                    </span>┃<span style=\"font-weight: bold\"> Output Shape           </span>┃<span style=\"font-weight: bold\">       Param # </span>┃\n",
              "┡━━━━━━━━━━━━━━━━━━━━━━━━━━━━━━━━━╇━━━━━━━━━━━━━━━━━━━━━━━━╇━━━━━━━━━━━━━━━┩\n",
              "│ conv2d (<span style=\"color: #0087ff; text-decoration-color: #0087ff\">Conv2D</span>)                 │ (<span style=\"color: #00d7ff; text-decoration-color: #00d7ff\">None</span>, <span style=\"color: #00af00; text-decoration-color: #00af00\">28</span>, <span style=\"color: #00af00; text-decoration-color: #00af00\">28</span>, <span style=\"color: #00af00; text-decoration-color: #00af00\">32</span>)     │           <span style=\"color: #00af00; text-decoration-color: #00af00\">320</span> │\n",
              "├─────────────────────────────────┼────────────────────────┼───────────────┤\n",
              "│ leaky_re_lu (<span style=\"color: #0087ff; text-decoration-color: #0087ff\">LeakyReLU</span>)         │ (<span style=\"color: #00d7ff; text-decoration-color: #00d7ff\">None</span>, <span style=\"color: #00af00; text-decoration-color: #00af00\">28</span>, <span style=\"color: #00af00; text-decoration-color: #00af00\">28</span>, <span style=\"color: #00af00; text-decoration-color: #00af00\">32</span>)     │             <span style=\"color: #00af00; text-decoration-color: #00af00\">0</span> │\n",
              "├─────────────────────────────────┼────────────────────────┼───────────────┤\n",
              "│ max_pooling2d (<span style=\"color: #0087ff; text-decoration-color: #0087ff\">MaxPooling2D</span>)    │ (<span style=\"color: #00d7ff; text-decoration-color: #00d7ff\">None</span>, <span style=\"color: #00af00; text-decoration-color: #00af00\">14</span>, <span style=\"color: #00af00; text-decoration-color: #00af00\">14</span>, <span style=\"color: #00af00; text-decoration-color: #00af00\">32</span>)     │             <span style=\"color: #00af00; text-decoration-color: #00af00\">0</span> │\n",
              "├─────────────────────────────────┼────────────────────────┼───────────────┤\n",
              "│ conv2d_1 (<span style=\"color: #0087ff; text-decoration-color: #0087ff\">Conv2D</span>)               │ (<span style=\"color: #00d7ff; text-decoration-color: #00d7ff\">None</span>, <span style=\"color: #00af00; text-decoration-color: #00af00\">14</span>, <span style=\"color: #00af00; text-decoration-color: #00af00\">14</span>, <span style=\"color: #00af00; text-decoration-color: #00af00\">64</span>)     │        <span style=\"color: #00af00; text-decoration-color: #00af00\">18,496</span> │\n",
              "├─────────────────────────────────┼────────────────────────┼───────────────┤\n",
              "│ leaky_re_lu_1 (<span style=\"color: #0087ff; text-decoration-color: #0087ff\">LeakyReLU</span>)       │ (<span style=\"color: #00d7ff; text-decoration-color: #00d7ff\">None</span>, <span style=\"color: #00af00; text-decoration-color: #00af00\">14</span>, <span style=\"color: #00af00; text-decoration-color: #00af00\">14</span>, <span style=\"color: #00af00; text-decoration-color: #00af00\">64</span>)     │             <span style=\"color: #00af00; text-decoration-color: #00af00\">0</span> │\n",
              "├─────────────────────────────────┼────────────────────────┼───────────────┤\n",
              "│ max_pooling2d_1 (<span style=\"color: #0087ff; text-decoration-color: #0087ff\">MaxPooling2D</span>)  │ (<span style=\"color: #00d7ff; text-decoration-color: #00d7ff\">None</span>, <span style=\"color: #00af00; text-decoration-color: #00af00\">7</span>, <span style=\"color: #00af00; text-decoration-color: #00af00\">7</span>, <span style=\"color: #00af00; text-decoration-color: #00af00\">64</span>)       │             <span style=\"color: #00af00; text-decoration-color: #00af00\">0</span> │\n",
              "├─────────────────────────────────┼────────────────────────┼───────────────┤\n",
              "│ conv2d_2 (<span style=\"color: #0087ff; text-decoration-color: #0087ff\">Conv2D</span>)               │ (<span style=\"color: #00d7ff; text-decoration-color: #00d7ff\">None</span>, <span style=\"color: #00af00; text-decoration-color: #00af00\">7</span>, <span style=\"color: #00af00; text-decoration-color: #00af00\">7</span>, <span style=\"color: #00af00; text-decoration-color: #00af00\">128</span>)      │        <span style=\"color: #00af00; text-decoration-color: #00af00\">73,856</span> │\n",
              "├─────────────────────────────────┼────────────────────────┼───────────────┤\n",
              "│ leaky_re_lu_2 (<span style=\"color: #0087ff; text-decoration-color: #0087ff\">LeakyReLU</span>)       │ (<span style=\"color: #00d7ff; text-decoration-color: #00d7ff\">None</span>, <span style=\"color: #00af00; text-decoration-color: #00af00\">7</span>, <span style=\"color: #00af00; text-decoration-color: #00af00\">7</span>, <span style=\"color: #00af00; text-decoration-color: #00af00\">128</span>)      │             <span style=\"color: #00af00; text-decoration-color: #00af00\">0</span> │\n",
              "├─────────────────────────────────┼────────────────────────┼───────────────┤\n",
              "│ max_pooling2d_2 (<span style=\"color: #0087ff; text-decoration-color: #0087ff\">MaxPooling2D</span>)  │ (<span style=\"color: #00d7ff; text-decoration-color: #00d7ff\">None</span>, <span style=\"color: #00af00; text-decoration-color: #00af00\">4</span>, <span style=\"color: #00af00; text-decoration-color: #00af00\">4</span>, <span style=\"color: #00af00; text-decoration-color: #00af00\">128</span>)      │             <span style=\"color: #00af00; text-decoration-color: #00af00\">0</span> │\n",
              "├─────────────────────────────────┼────────────────────────┼───────────────┤\n",
              "│ flatten (<span style=\"color: #0087ff; text-decoration-color: #0087ff\">Flatten</span>)               │ (<span style=\"color: #00d7ff; text-decoration-color: #00d7ff\">None</span>, <span style=\"color: #00af00; text-decoration-color: #00af00\">2048</span>)           │             <span style=\"color: #00af00; text-decoration-color: #00af00\">0</span> │\n",
              "├─────────────────────────────────┼────────────────────────┼───────────────┤\n",
              "│ dense (<span style=\"color: #0087ff; text-decoration-color: #0087ff\">Dense</span>)                   │ (<span style=\"color: #00d7ff; text-decoration-color: #00d7ff\">None</span>, <span style=\"color: #00af00; text-decoration-color: #00af00\">128</span>)            │       <span style=\"color: #00af00; text-decoration-color: #00af00\">262,272</span> │\n",
              "├─────────────────────────────────┼────────────────────────┼───────────────┤\n",
              "│ leaky_re_lu_3 (<span style=\"color: #0087ff; text-decoration-color: #0087ff\">LeakyReLU</span>)       │ (<span style=\"color: #00d7ff; text-decoration-color: #00d7ff\">None</span>, <span style=\"color: #00af00; text-decoration-color: #00af00\">128</span>)            │             <span style=\"color: #00af00; text-decoration-color: #00af00\">0</span> │\n",
              "├─────────────────────────────────┼────────────────────────┼───────────────┤\n",
              "│ dense_1 (<span style=\"color: #0087ff; text-decoration-color: #0087ff\">Dense</span>)                 │ (<span style=\"color: #00d7ff; text-decoration-color: #00d7ff\">None</span>, <span style=\"color: #00af00; text-decoration-color: #00af00\">10</span>)             │         <span style=\"color: #00af00; text-decoration-color: #00af00\">1,290</span> │\n",
              "└─────────────────────────────────┴────────────────────────┴───────────────┘\n",
              "</pre>\n"
            ]
          },
          "metadata": {}
        },
        {
          "output_type": "display_data",
          "data": {
            "text/plain": [
              "\u001b[1m Total params: \u001b[0m\u001b[38;5;34m356,234\u001b[0m (1.36 MB)\n"
            ],
            "text/html": [
              "<pre style=\"white-space:pre;overflow-x:auto;line-height:normal;font-family:Menlo,'DejaVu Sans Mono',consolas,'Courier New',monospace\"><span style=\"font-weight: bold\"> Total params: </span><span style=\"color: #00af00; text-decoration-color: #00af00\">356,234</span> (1.36 MB)\n",
              "</pre>\n"
            ]
          },
          "metadata": {}
        },
        {
          "output_type": "display_data",
          "data": {
            "text/plain": [
              "\u001b[1m Trainable params: \u001b[0m\u001b[38;5;34m356,234\u001b[0m (1.36 MB)\n"
            ],
            "text/html": [
              "<pre style=\"white-space:pre;overflow-x:auto;line-height:normal;font-family:Menlo,'DejaVu Sans Mono',consolas,'Courier New',monospace\"><span style=\"font-weight: bold\"> Trainable params: </span><span style=\"color: #00af00; text-decoration-color: #00af00\">356,234</span> (1.36 MB)\n",
              "</pre>\n"
            ]
          },
          "metadata": {}
        },
        {
          "output_type": "display_data",
          "data": {
            "text/plain": [
              "\u001b[1m Non-trainable params: \u001b[0m\u001b[38;5;34m0\u001b[0m (0.00 B)\n"
            ],
            "text/html": [
              "<pre style=\"white-space:pre;overflow-x:auto;line-height:normal;font-family:Menlo,'DejaVu Sans Mono',consolas,'Courier New',monospace\"><span style=\"font-weight: bold\"> Non-trainable params: </span><span style=\"color: #00af00; text-decoration-color: #00af00\">0</span> (0.00 B)\n",
              "</pre>\n"
            ]
          },
          "metadata": {}
        }
      ]
    },
    {
      "cell_type": "markdown",
      "source": [
        "##Part C"
      ],
      "metadata": {
        "id": "dd4KcHEniRnr"
      }
    },
    {
      "cell_type": "markdown",
      "source": [
        "CNN Fitting"
      ],
      "metadata": {
        "id": "dlyRkXTASKUi"
      }
    },
    {
      "cell_type": "code",
      "source": [
        "results = model.fit(train_X, train_label, batch_size=batch_size,\n",
        "                    epochs=epochs, validation_data=(valid_X, valid_label))"
      ],
      "metadata": {
        "colab": {
          "base_uri": "https://localhost:8080/"
        },
        "id": "T2SkJxQSSMB6",
        "outputId": "95b38543-aba7-47f4-b730-4a51d5b3d4d4"
      },
      "execution_count": 10,
      "outputs": [
        {
          "output_type": "stream",
          "name": "stdout",
          "text": [
            "Epoch 1/20\n",
            "\u001b[1m750/750\u001b[0m \u001b[32m━━━━━━━━━━━━━━━━━━━━\u001b[0m\u001b[37m\u001b[0m \u001b[1m120s\u001b[0m 153ms/step - accuracy: 0.7540 - loss: 0.6695 - val_accuracy: 0.8795 - val_loss: 0.3344\n",
            "Epoch 2/20\n",
            "\u001b[1m750/750\u001b[0m \u001b[32m━━━━━━━━━━━━━━━━━━━━\u001b[0m\u001b[37m\u001b[0m \u001b[1m130s\u001b[0m 137ms/step - accuracy: 0.8875 - loss: 0.3044 - val_accuracy: 0.8929 - val_loss: 0.2883\n",
            "Epoch 3/20\n",
            "\u001b[1m750/750\u001b[0m \u001b[32m━━━━━━━━━━━━━━━━━━━━\u001b[0m\u001b[37m\u001b[0m \u001b[1m140s\u001b[0m 134ms/step - accuracy: 0.9076 - loss: 0.2512 - val_accuracy: 0.9024 - val_loss: 0.2601\n",
            "Epoch 4/20\n",
            "\u001b[1m750/750\u001b[0m \u001b[32m━━━━━━━━━━━━━━━━━━━━\u001b[0m\u001b[37m\u001b[0m \u001b[1m142s\u001b[0m 134ms/step - accuracy: 0.9219 - loss: 0.2120 - val_accuracy: 0.9158 - val_loss: 0.2317\n",
            "Epoch 5/20\n",
            "\u001b[1m750/750\u001b[0m \u001b[32m━━━━━━━━━━━━━━━━━━━━\u001b[0m\u001b[37m\u001b[0m \u001b[1m142s\u001b[0m 133ms/step - accuracy: 0.9308 - loss: 0.1855 - val_accuracy: 0.9148 - val_loss: 0.2295\n",
            "Epoch 6/20\n",
            "\u001b[1m750/750\u001b[0m \u001b[32m━━━━━━━━━━━━━━━━━━━━\u001b[0m\u001b[37m\u001b[0m \u001b[1m138s\u001b[0m 128ms/step - accuracy: 0.9425 - loss: 0.1570 - val_accuracy: 0.9143 - val_loss: 0.2340\n",
            "Epoch 7/20\n",
            "\u001b[1m750/750\u001b[0m \u001b[32m━━━━━━━━━━━━━━━━━━━━\u001b[0m\u001b[37m\u001b[0m \u001b[1m145s\u001b[0m 132ms/step - accuracy: 0.9479 - loss: 0.1397 - val_accuracy: 0.9181 - val_loss: 0.2303\n",
            "Epoch 8/20\n",
            "\u001b[1m750/750\u001b[0m \u001b[32m━━━━━━━━━━━━━━━━━━━━\u001b[0m\u001b[37m\u001b[0m \u001b[1m142s\u001b[0m 132ms/step - accuracy: 0.9549 - loss: 0.1201 - val_accuracy: 0.9194 - val_loss: 0.2429\n",
            "Epoch 9/20\n",
            "\u001b[1m750/750\u001b[0m \u001b[32m━━━━━━━━━━━━━━━━━━━━\u001b[0m\u001b[37m\u001b[0m \u001b[1m142s\u001b[0m 132ms/step - accuracy: 0.9629 - loss: 0.0982 - val_accuracy: 0.9218 - val_loss: 0.2428\n",
            "Epoch 10/20\n",
            "\u001b[1m750/750\u001b[0m \u001b[32m━━━━━━━━━━━━━━━━━━━━\u001b[0m\u001b[37m\u001b[0m \u001b[1m139s\u001b[0m 129ms/step - accuracy: 0.9697 - loss: 0.0836 - val_accuracy: 0.9258 - val_loss: 0.2367\n",
            "Epoch 11/20\n",
            "\u001b[1m750/750\u001b[0m \u001b[32m━━━━━━━━━━━━━━━━━━━━\u001b[0m\u001b[37m\u001b[0m \u001b[1m146s\u001b[0m 135ms/step - accuracy: 0.9729 - loss: 0.0747 - val_accuracy: 0.9187 - val_loss: 0.2715\n",
            "Epoch 12/20\n",
            "\u001b[1m750/750\u001b[0m \u001b[32m━━━━━━━━━━━━━━━━━━━━\u001b[0m\u001b[37m\u001b[0m \u001b[1m141s\u001b[0m 134ms/step - accuracy: 0.9753 - loss: 0.0629 - val_accuracy: 0.9222 - val_loss: 0.2767\n",
            "Epoch 13/20\n",
            "\u001b[1m750/750\u001b[0m \u001b[32m━━━━━━━━━━━━━━━━━━━━\u001b[0m\u001b[37m\u001b[0m \u001b[1m142s\u001b[0m 134ms/step - accuracy: 0.9806 - loss: 0.0532 - val_accuracy: 0.9233 - val_loss: 0.2954\n",
            "Epoch 14/20\n",
            "\u001b[1m750/750\u001b[0m \u001b[32m━━━━━━━━━━━━━━━━━━━━\u001b[0m\u001b[37m\u001b[0m \u001b[1m137s\u001b[0m 128ms/step - accuracy: 0.9839 - loss: 0.0442 - val_accuracy: 0.9286 - val_loss: 0.2995\n",
            "Epoch 15/20\n",
            "\u001b[1m750/750\u001b[0m \u001b[32m━━━━━━━━━━━━━━━━━━━━\u001b[0m\u001b[37m\u001b[0m \u001b[1m142s\u001b[0m 128ms/step - accuracy: 0.9855 - loss: 0.0393 - val_accuracy: 0.9241 - val_loss: 0.3398\n",
            "Epoch 16/20\n",
            "\u001b[1m750/750\u001b[0m \u001b[32m━━━━━━━━━━━━━━━━━━━━\u001b[0m\u001b[37m\u001b[0m \u001b[1m143s\u001b[0m 129ms/step - accuracy: 0.9843 - loss: 0.0419 - val_accuracy: 0.9237 - val_loss: 0.3395\n",
            "Epoch 17/20\n",
            "\u001b[1m750/750\u001b[0m \u001b[32m━━━━━━━━━━━━━━━━━━━━\u001b[0m\u001b[37m\u001b[0m \u001b[1m100s\u001b[0m 133ms/step - accuracy: 0.9896 - loss: 0.0294 - val_accuracy: 0.9186 - val_loss: 0.3788\n",
            "Epoch 18/20\n",
            "\u001b[1m750/750\u001b[0m \u001b[32m━━━━━━━━━━━━━━━━━━━━\u001b[0m\u001b[37m\u001b[0m \u001b[1m139s\u001b[0m 129ms/step - accuracy: 0.9860 - loss: 0.0358 - val_accuracy: 0.9211 - val_loss: 0.3996\n",
            "Epoch 19/20\n",
            "\u001b[1m750/750\u001b[0m \u001b[32m━━━━━━━━━━━━━━━━━━━━\u001b[0m\u001b[37m\u001b[0m \u001b[1m99s\u001b[0m 132ms/step - accuracy: 0.9892 - loss: 0.0281 - val_accuracy: 0.9192 - val_loss: 0.3932\n",
            "Epoch 20/20\n",
            "\u001b[1m750/750\u001b[0m \u001b[32m━━━━━━━━━━━━━━━━━━━━\u001b[0m\u001b[37m\u001b[0m \u001b[1m101s\u001b[0m 135ms/step - accuracy: 0.9891 - loss: 0.0315 - val_accuracy: 0.9222 - val_loss: 0.4038\n"
          ]
        }
      ]
    },
    {
      "cell_type": "markdown",
      "source": [
        "CNN Evaluation"
      ],
      "metadata": {
        "id": "q4yuLj4hUCk7"
      }
    },
    {
      "cell_type": "code",
      "source": [
        "# Evaluate the trained model on the test set\n",
        "# test_X → input test images\n",
        "# test_Y_one_hot → one-hot encoded labels for test images\n",
        "# Returns: [loss, accuracy]\n",
        "test_eval = model.evaluate(test_X, test_Y_one_hot)\n",
        "\n",
        "# Print the test loss\n",
        "# Loss indicates how well the model predicts on unseen data\n",
        "print(\"Test Loss:\", test_eval[0])\n",
        "\n",
        "# Print the test accuracy\n",
        "# Accuracy indicates the percentage of correctly classified images\n",
        "print(\"Test Accuracy:\", test_eval[1])"
      ],
      "metadata": {
        "id": "OXLOKGkcUEZF",
        "colab": {
          "base_uri": "https://localhost:8080/"
        },
        "outputId": "27258b2c-94b8-4d81-d104-2f0ec6ec6e32"
      },
      "execution_count": 11,
      "outputs": [
        {
          "output_type": "stream",
          "name": "stdout",
          "text": [
            "\u001b[1m313/313\u001b[0m \u001b[32m━━━━━━━━━━━━━━━━━━━━\u001b[0m\u001b[37m\u001b[0m \u001b[1m6s\u001b[0m 20ms/step - accuracy: 0.9176 - loss: 0.4401\n",
            "Test Loss: 0.4406392574310303\n",
            "Test Accuracy: 0.9194999933242798\n"
          ]
        }
      ]
    }
  ]
}